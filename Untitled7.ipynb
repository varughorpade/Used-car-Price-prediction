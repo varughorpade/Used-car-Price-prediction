{
 "cells": [
  {
   "cell_type": "code",
   "execution_count": 2,
   "metadata": {},
   "outputs": [],
   "source": [
    "import pandas as pd\n",
    "training_set = pd.read_excel(\"Data_Train.xlsx\")\n",
    "test_set = pd.read_excel(\"Data_Test.xlsx\")"
   ]
  },
  {
   "cell_type": "code",
   "execution_count": 3,
   "metadata": {},
   "outputs": [
    {
     "name": "stdout",
     "output_type": "stream",
     "text": [
      "\n",
      "\n",
      "Number of features in the datasets :\n",
      " ########################################\n",
      "\n",
      "Training Set : \n",
      " -------------------- 13\n",
      "\n",
      "Test Set : \n",
      " -------------------- 12\n"
     ]
    }
   ],
   "source": [
    "#checking the number of features in the Datasets\n",
    "print(\"\\n\\nNumber of features in the datasets :\\n\",'#' * 40)\n",
    "print(\"\\nTraining Set : \\n\",'-' * 20, len(training_set.columns))\n",
    "print(\"\\nTest Set : \\n\",'-' * 20,len(test_set.columns))"
   ]
  },
  {
   "cell_type": "code",
   "execution_count": 4,
   "metadata": {},
   "outputs": [
    {
     "name": "stdout",
     "output_type": "stream",
     "text": [
      "\n",
      "\n",
      "Features in the datasets :\n",
      " ########################################\n",
      "\n",
      "Training Set : \n",
      " -------------------- ['Name', 'Location', 'Year', 'Kilometers_Driven', 'Fuel_Type', 'Transmission', 'Owner_Type', 'Mileage', 'Engine', 'Power', 'Seats', 'New_Price', 'Price']\n",
      "\n",
      "Test Set : \n",
      " -------------------- ['Name', 'Location', 'Year', 'Kilometers_Driven', 'Fuel_Type', 'Transmission', 'Owner_Type', 'Mileage', 'Engine', 'Power', 'Seats', 'New_Price']\n"
     ]
    }
   ],
   "source": [
    "#checking the features in the Datasets\n",
    "print(\"\\n\\nFeatures in the datasets :\\n\",'#' * 40)\n",
    "print(\"\\nTraining Set : \\n\",'-' * 20, list(training_set.columns))\n",
    "print(\"\\nTest Set : \\n\",'-' * 20,list(test_set.columns))"
   ]
  },
  {
   "cell_type": "code",
   "execution_count": 5,
   "metadata": {},
   "outputs": [
    {
     "name": "stdout",
     "output_type": "stream",
     "text": [
      "\n",
      "\n",
      "Datatypes of features in the datasets :\n",
      " ########################################\n",
      "\n",
      "Training Set : \n",
      " -------------------- \n",
      " Name                  object\n",
      "Location              object\n",
      "Year                   int64\n",
      "Kilometers_Driven      int64\n",
      "Fuel_Type             object\n",
      "Transmission          object\n",
      "Owner_Type            object\n",
      "Mileage               object\n",
      "Engine                object\n",
      "Power                 object\n",
      "Seats                float64\n",
      "New_Price             object\n",
      "Price                float64\n",
      "dtype: object\n",
      "\n",
      "Test Set : \n",
      " -------------------- \n",
      " Name                  object\n",
      "Location              object\n",
      "Year                   int64\n",
      "Kilometers_Driven      int64\n",
      "Fuel_Type             object\n",
      "Transmission          object\n",
      "Owner_Type            object\n",
      "Mileage               object\n",
      "Engine                object\n",
      "Power                 object\n",
      "Seats                float64\n",
      "New_Price             object\n",
      "dtype: object\n"
     ]
    }
   ],
   "source": [
    "#checking the data types of features\n",
    "print(\"\\n\\nDatatypes of features in the datasets :\\n\",'#' * 40)\n",
    "print(\"\\nTraining Set : \\n\",'-' * 20,\"\\n\", training_set.dtypes)\n",
    "print(\"\\nTest Set : \\n\",'-' * 20,\"\\n\",test_set.dtypes)"
   ]
  },
  {
   "cell_type": "code",
   "execution_count": 6,
   "metadata": {},
   "outputs": [
    {
     "name": "stdout",
     "output_type": "stream",
     "text": [
      "\n",
      "\n",
      "Number of observations in the datasets :\n",
      " ########################################\n",
      "\n",
      "Training Set : \n",
      " -------------------- 6019\n",
      "\n",
      "Test Set : \n",
      " -------------------- 1234\n"
     ]
    }
   ],
   "source": [
    "#checking the number of rows\n",
    "print(\"\\n\\nNumber of observations in the datasets :\\n\",'#' * 40)\n",
    "print(\"\\nTraining Set : \\n\",'-' * 20,len(training_set))\n",
    "print(\"\\nTest Set : \\n\",'-' * 20,len(test_set))"
   ]
  },
  {
   "cell_type": "code",
   "execution_count": 7,
   "metadata": {},
   "outputs": [
    {
     "name": "stdout",
     "output_type": "stream",
     "text": [
      "\n",
      "\n",
      "Empty cells or Nans in the datasets :\n",
      " ########################################\n",
      "\n",
      "Training Set : \n",
      " -------------------- True\n",
      "\n",
      "Test Set : \n",
      " -------------------- True\n"
     ]
    }
   ],
   "source": [
    "#checking for NaNs or empty cells\n",
    "print(\"\\n\\nEmpty cells or Nans in the datasets :\\n\",'#' * 40)\n",
    "print(\"\\nTraining Set : \\n\",'-' * 20,training_set.isnull().values.any())\n",
    "print(\"\\nTest Set : \\n\",'-' * 20,test_set.isnull().values.any())"
   ]
  },
  {
   "cell_type": "code",
   "execution_count": 8,
   "metadata": {},
   "outputs": [
    {
     "name": "stdout",
     "output_type": "stream",
     "text": [
      "\n",
      "\n",
      "Number of empty cells or Nans in the datasets :\n",
      " ########################################\n",
      "\n",
      "Training Set : \n",
      " -------------------- \n",
      " Name                    0\n",
      "Location                0\n",
      "Year                    0\n",
      "Kilometers_Driven       0\n",
      "Fuel_Type               0\n",
      "Transmission            0\n",
      "Owner_Type              0\n",
      "Mileage                 2\n",
      "Engine                 36\n",
      "Power                  36\n",
      "Seats                  42\n",
      "New_Price            5195\n",
      "Price                   0\n",
      "dtype: int64\n",
      "\n",
      "Test Set : \n",
      " -------------------- \n",
      " Name                    0\n",
      "Location                0\n",
      "Year                    0\n",
      "Kilometers_Driven       0\n",
      "Fuel_Type               0\n",
      "Transmission            0\n",
      "Owner_Type              0\n",
      "Mileage                 0\n",
      "Engine                 10\n",
      "Power                  10\n",
      "Seats                  11\n",
      "New_Price            1052\n",
      "dtype: int64\n"
     ]
    }
   ],
   "source": [
    "#checking for NaNs or empty cells by features\n",
    "print(\"\\n\\nNumber of empty cells or Nans in the datasets :\\n\",'#' * 40)\n",
    "print(\"\\nTraining Set : \\n\",'-' * 20,\"\\n\", training_set.isnull().sum())\n",
    "print(\"\\nTest Set : \\n\",'-' * 20,\"\\n\",test_set.isnull().sum())"
   ]
  },
  {
   "cell_type": "code",
   "execution_count": 11,
   "metadata": {},
   "outputs": [
    {
     "name": "stdout",
     "output_type": "stream",
     "text": [
      "\n",
      "Number Of Unique Values In Name : \n",
      "  2041\n",
      "\n",
      "Number Of Unique Values In Location : \n",
      "  11\n",
      "\n",
      "The Unique Values In Location : \n",
      "  {'Hyderabad', 'Mumbai', 'Delhi', 'Ahmedabad', 'Pune', 'Kochi', 'Bangalore', 'Coimbatore', 'Kolkata', 'Chennai', 'Jaipur'}\n",
      "\n",
      "Number Of Unique Values In Fuel_Type : \n",
      "  5\n",
      "\n",
      "The Unique Values In Fuel_Type : \n",
      "  {'LPG', 'Petrol', 'Electric', 'Diesel', 'CNG'}\n",
      "\n",
      "Number Of Unique Values In Transmission : \n",
      "  2\n",
      "\n",
      "The Unique Values In Transmission : \n",
      "  {'Manual', 'Automatic'}\n",
      "\n",
      "Number Of Unique Values In Owner_Type : \n",
      "  4\n",
      "\n",
      "The Unique Values In Owner_Type : \n",
      "  {'Second', 'Fourth & Above', 'Third', 'First'}\n"
     ]
    }
   ],
   "source": [
    "#combining training set and test set data\n",
    "all_brands = list(training_set.Name) + list(test_set.Name)\n",
    "all_locations = list(training_set.Location) + list(test_set.Location)\n",
    "all_fuel_types = list(training_set.Fuel_Type) + list(test_set.Fuel_Type)\n",
    "all_transmissions = list(training_set.Transmission) + list(test_set.Transmission)\n",
    "all_owner_types = list(training_set.Owner_Type) + list(test_set.Owner_Type)\n",
    "\n",
    "print(\"\\nNumber Of Unique Values In Name : \\n \", len(set(all_brands)))\n",
    "#print(\"\\nThe Unique Values In Name : \\n \", set(all_brands))\n",
    "\n",
    "print(\"\\nNumber Of Unique Values In Location : \\n \", len(set(all_locations)))\n",
    "print(\"\\nThe Unique Values In Location : \\n \", set(all_locations) )\n",
    "\n",
    "print(\"\\nNumber Of Unique Values In Fuel_Type : \\n \", len(set(all_fuel_types)))\n",
    "print(\"\\nThe Unique Values In Fuel_Type : \\n \", set(all_fuel_types) )\n",
    "\n",
    "print(\"\\nNumber Of Unique Values In Transmission : \\n \", len(set(all_transmissions)))\n",
    "print(\"\\nThe Unique Values In Transmission : \\n \", set(all_transmissions) )\n",
    "\n",
    "print(\"\\nNumber Of Unique Values In Owner_Type : \\n \", len(set(all_owner_types)))\n",
    "print(\"\\nThe Unique Values In Owner_Type : \\n \" ,set(all_owner_types) )\n"
   ]
  },
  {
   "cell_type": "code",
   "execution_count": 12,
   "metadata": {},
   "outputs": [],
   "source": [
    "#\"\"\"Splitting name into 2 features, brand and model\"\"\"\n",
    "\n",
    "#Training Set\n",
    "names = list(training_set.Name)\n",
    "brand = []\n",
    "model = []\n",
    "for i in range(len(names)):\n",
    "   try:\n",
    "       brand.append(names[i].split(\" \")[0].strip())\n",
    "       try:\n",
    "           model.append(\" \".join(names[i].split(\" \")[1:]).strip())\n",
    "       except:\n",
    "           pass\n",
    "   except:\n",
    "       print(\"ERR ! - \", names[i], \"@\" , i)\n",
    "training_set[\"Brand\"] =  brand\n",
    "training_set[\"Model\"] = model\n",
    "training_set.drop(labels = ['Name'], axis = 1, inplace = True)"
   ]
  },
  {
   "cell_type": "code",
   "execution_count": 13,
   "metadata": {},
   "outputs": [],
   "source": [
    "#Test Set\n",
    "names = list(test_set.Name)\n",
    "brand = []\n",
    "model = []\n",
    "for i in range(len(names)):\n",
    "   try:\n",
    "       brand.append(names[i].split(\" \")[0].strip())\n",
    "       try:\n",
    "           model.append(\" \".join(names[i].split(\" \")[1:]).strip())\n",
    "       except:\n",
    "           pass\n",
    "   except:\n",
    "       print(\"ERR ! - \", names[i], \"@\" , i)\n",
    "test_set[\"Brand\"] =  brand\n",
    "test_set[\"Model\"] = model\n",
    "test_set.drop(labels = ['Name'], axis = 1, inplace = True)"
   ]
  },
  {
   "cell_type": "code",
   "execution_count": 15,
   "metadata": {},
   "outputs": [],
   "source": [
    "#\"\"\" Removing the  texts and converting to integer''\"\"\"\n",
    "import numpy as np\n",
    "# Training Set\n",
    "mileage = list(training_set.Mileage)\n",
    "for i in range(len(mileage)):\n",
    "   try :\n",
    "       mileage[i] = float(mileage[i].split(\" \")[0].strip())\n",
    "   except:\n",
    "       mileage[i] = np.nan\n",
    "training_set['Mileage'] = mileage"
   ]
  },
  {
   "cell_type": "code",
   "execution_count": 16,
   "metadata": {},
   "outputs": [],
   "source": [
    "#\"\"\" Removing the  texts and converting to integer''\"\"\"\n",
    "import numpy as np\n",
    "# Training Set\n",
    "mileage = list(test_set.Mileage)\n",
    "for i in range(len(mileage)):\n",
    "   try :\n",
    "       mileage[i] = float(mileage[i].split(\" \")[0].strip())\n",
    "   except:\n",
    "       mileage[i] = np.nan\n",
    "test_set['Mileage'] = mileage"
   ]
  },
  {
   "cell_type": "code",
   "execution_count": 17,
   "metadata": {},
   "outputs": [],
   "source": [
    "#\"\"\" Removing the  texts and converting to integer''\"\"\"\n",
    "\n",
    "# Training Set\n",
    "engine = list(training_set.Engine)\n",
    "for i in range(len(engine)):\n",
    "   try :\n",
    "       engine[i] = int(engine[i].split(\" \")[0].strip())\n",
    "   except:\n",
    "       engine[i] = np.nan\n",
    "training_set['Engine'] = engine"
   ]
  },
  {
   "cell_type": "code",
   "execution_count": 18,
   "metadata": {},
   "outputs": [],
   "source": [
    "#\"\"\" Removing the  texts and converting to integer''\"\"\"\n",
    "\n",
    "# Training Set\n",
    "engine = list(test_set.Engine)\n",
    "for i in range(len(engine)):\n",
    "   try :\n",
    "       engine[i] = int(engine[i].split(\" \")[0].strip())\n",
    "   except:\n",
    "       engine[i] = np.nan\n",
    "test_set['Engine'] = engine"
   ]
  },
  {
   "cell_type": "code",
   "execution_count": 19,
   "metadata": {},
   "outputs": [],
   "source": [
    "#\"\"\" Removing the  texts and converting to integer\"\"\"\n",
    "\n",
    "# Training Set\n",
    "power = list(training_set.Power)\n",
    "for i in range(len(power)):\n",
    "   try :\n",
    "       power[i] = float(power[i].split(\" \")[0].strip())\n",
    "   except:\n",
    "       power[i] = np.nan\n",
    "training_set['Power'] = power"
   ]
  },
  {
   "cell_type": "code",
   "execution_count": 20,
   "metadata": {},
   "outputs": [],
   "source": [
    "#\"\"\" Removing the  texts and converting to integer\"\"\"\n",
    "\n",
    "# Training Set\n",
    "power = list(test_set.Power)\n",
    "for i in range(len(power)):\n",
    "   try :\n",
    "       power[i] = float(power[i].split(\" \")[0].strip())\n",
    "   except:\n",
    "       power[i] = np.nan\n",
    "test_set['Power'] = power"
   ]
  },
  {
   "cell_type": "code",
   "execution_count": 21,
   "metadata": {},
   "outputs": [],
   "source": [
    "training_set.drop(labels = ['New_Price'], axis = 1, inplace = True)\n",
    "test_set.drop(labels = ['New_Price'], axis = 1, inplace = True)"
   ]
  },
  {
   "cell_type": "code",
   "execution_count": 22,
   "metadata": {},
   "outputs": [],
   "source": [
    "#Re-ordering the columns\n",
    "training_set = training_set[['Brand', 'Model', 'Location', 'Year', 'Kilometers_Driven', 'Fuel_Type', 'Transmission',\n",
    "      'Owner_Type', 'Mileage', 'Engine', 'Power', 'Seats', 'Price']]\n",
    "test_set = test_set[['Brand', 'Model', 'Location', 'Year', 'Kilometers_Driven', 'Fuel_Type', 'Transmission',\n",
    "      'Owner_Type', 'Mileage', 'Engine', 'Power', 'Seats']]"
   ]
  },
  {
   "cell_type": "code",
   "execution_count": 23,
   "metadata": {},
   "outputs": [],
   "source": [
    "#'Brand', 'Model', 'Location','Fuel_Type', 'Transmission', 'Owner_Type'\n",
    "\n",
    "all_brands = list(set(list(training_set.Brand) + list(test_set.Brand)))\n",
    "all_models = list(set(list(training_set.Model) + list(test_set.Model)))\n",
    "all_locations = list(set(list(training_set.Location) + list(test_set.Location)))\n",
    "all_fuel_types = list(set(list(training_set.Fuel_Type) + list(test_set.Fuel_Type)))\n",
    "all_transmissions = list(set(list(training_set.Transmission) + list(test_set.Transmission)))\n",
    "all_owner_types = list(set(list(training_set.Owner_Type) + list(test_set.Owner_Type)))"
   ]
  },
  {
   "cell_type": "code",
   "execution_count": 24,
   "metadata": {},
   "outputs": [],
   "source": [
    "#Initializing label encoders\n",
    "from sklearn.preprocessing import LabelEncoder\n",
    "le_brands = LabelEncoder()\n",
    "le_models = LabelEncoder()\n",
    "le_locations = LabelEncoder()\n",
    "le_fuel_types = LabelEncoder()\n",
    "le_transmissions = LabelEncoder()\n",
    "le_owner_types = LabelEncoder()"
   ]
  },
  {
   "cell_type": "code",
   "execution_count": 25,
   "metadata": {},
   "outputs": [
    {
     "data": {
      "text/plain": [
       "LabelEncoder()"
      ]
     },
     "execution_count": 25,
     "metadata": {},
     "output_type": "execute_result"
    }
   ],
   "source": [
    "#Fitting the categories\n",
    "le_brands.fit(all_brands)\n",
    "le_models.fit(all_models)\n",
    "le_locations.fit(all_locations)\n",
    "le_fuel_types.fit(all_fuel_types)\n",
    "le_transmissions.fit(all_transmissions)\n",
    "le_owner_types.fit(all_owner_types)"
   ]
  },
  {
   "cell_type": "code",
   "execution_count": 26,
   "metadata": {},
   "outputs": [],
   "source": [
    "#Applying encoding to Training_set data\n",
    "training_set['Brand'] = le_brands.transform(training_set['Brand'])\n",
    "training_set['Model'] = le_models.transform(training_set['Model'])\n",
    "training_set['Location'] = le_locations.transform(training_set['Location'])\n",
    "training_set['Fuel_Type'] = le_fuel_types.transform(training_set['Fuel_Type'])\n",
    "training_set['Transmission'] = le_transmissions.transform(training_set['Transmission'])\n",
    "training_set['Owner_Type'] = le_owner_types.transform(training_set['Owner_Type'])"
   ]
  },
  {
   "cell_type": "code",
   "execution_count": 27,
   "metadata": {},
   "outputs": [],
   "source": [
    "#Applying encoding to Test_set data\n",
    "test_set['Brand'] = le_brands.transform(test_set['Brand'])\n",
    "test_set['Model'] = le_models.transform(test_set['Model'])\n",
    "test_set['Location'] = le_locations.transform(test_set['Location'])\n",
    "test_set['Fuel_Type'] = le_fuel_types.transform(test_set['Fuel_Type'])\n",
    "test_set['Transmission'] = le_transmissions.transform(test_set['Transmission'])\n",
    "test_set['Owner_Type'] = le_owner_types.transform(test_set['Owner_Type'])"
   ]
  },
  {
   "cell_type": "code",
   "execution_count": 28,
   "metadata": {},
   "outputs": [],
   "source": [
    "# Dependent Variable\n",
    "Y_train_data = training_set.iloc[:, -1].values\n",
    "\n",
    "# Independent Variables\n",
    "X_train_data = training_set.iloc[:,0 : -1].values\n",
    "\n",
    "# Independent Variables for test Set\n",
    "X_test = test_set.iloc[:,:].values"
   ]
  },
  {
   "cell_type": "code",
   "execution_count": 29,
   "metadata": {},
   "outputs": [],
   "source": [
    "from sklearn.impute import SimpleImputer\n",
    "\n",
    "#Training Set Imputation\n",
    "imputer = SimpleImputer(missing_values = np.nan, strategy = 'most_frequent')\n",
    "imputer = imputer.fit(X_train_data[:,8:12]) \n",
    "X_train_data[:,8:12] = imputer.transform(X_train_data[:,8:12])\n",
    "\n",
    "#Test_set Imputation\n",
    "imputer = SimpleImputer(missing_values = np.nan, strategy = 'most_frequent')\n",
    "imputer = imputer.fit(X_test[:,8:12]) \n",
    "X_test[:,8:12] = imputer.transform(X_test[:,8:12])"
   ]
  },
  {
   "cell_type": "code",
   "execution_count": 32,
   "metadata": {},
   "outputs": [],
   "source": [
    "from sklearn.model_selection import train_test_split\n",
    "\n",
    "#Splitting the training set into Training and validation sets\n",
    "X_train, X_val, Y_train, Y_val = train_test_split(X_train_data, Y_train_data, test_size = 0.2, random_state = 1)"
   ]
  },
  {
   "cell_type": "code",
   "execution_count": 33,
   "metadata": {},
   "outputs": [],
   "source": [
    "#Feature Scaling\n",
    "from sklearn.preprocessing import StandardScaler\n",
    "sc = StandardScaler()\n",
    "\n",
    "#Scaling Original Training Data\n",
    "X_train_data = sc.fit_transform(X_train_data)"
   ]
  },
  {
   "cell_type": "code",
   "execution_count": 34,
   "metadata": {},
   "outputs": [],
   "source": [
    "#Reshaping vector to array for transforming\n",
    "Y_train_data = Y_train_data.reshape((len(Y_train_data), 1))\n",
    "Y_train_data = sc.fit_transform(Y_train_data)\n",
    "#converting back to vector\n",
    "Y_train_data = Y_train_data.ravel()\n",
    "\n",
    "X_test = sc.transform(X_test)"
   ]
  },
  {
   "cell_type": "code",
   "execution_count": 35,
   "metadata": {},
   "outputs": [],
   "source": [
    "# Scaling Splitted training and val sets\n",
    "X_train = sc.fit_transform(X_train)\n",
    "X_val = sc.fit_transform(X_val)"
   ]
  },
  {
   "cell_type": "code",
   "execution_count": 36,
   "metadata": {},
   "outputs": [],
   "source": [
    "#Reshaping vector to array for transforming\n",
    "Y_train = Y_train.reshape((len(Y_train), 1)) \n",
    "Y_train = sc.fit_transform(Y_train)\n",
    "#converting back to vector\n",
    "Y_train = Y_train.ravel()"
   ]
  },
  {
   "cell_type": "code",
   "execution_count": 37,
   "metadata": {},
   "outputs": [],
   "source": [
    "# Score Calculation\n",
    "def score(y_pred, y_true):\n",
    "   error = np.square(np.log10(y_pred +1) - np.log10(y_true +1)).mean() ** 0.5\n",
    "   score = 1 - error\n",
    "   return score\n",
    "\n",
    "#The actual recordings to be tested against\n",
    "y_true = Y_val"
   ]
  },
  {
   "cell_type": "code",
   "execution_count": 38,
   "metadata": {},
   "outputs": [],
   "source": [
    "#Initializing Linear regressor\n",
    "from sklearn.linear_model import LinearRegression\n",
    "lr = LinearRegression()\n",
    "\n",
    "#Fitting the regressor with training data\n",
    "lr.fit(X_train,Y_train)\n",
    "\n",
    "#Predicting the target(Price) for predictors in validation set X_val\n",
    "Y_pred = sc.inverse_transform(lr.predict(X_val))"
   ]
  },
  {
   "cell_type": "code",
   "execution_count": 39,
   "metadata": {},
   "outputs": [],
   "source": [
    "#Eliminating negative values in prediction for score calculation\n",
    "for i in range(len(Y_pred)):\n",
    "   if Y_pred[i] < 0:\n",
    "       Y_pred[i] = 0"
   ]
  },
  {
   "cell_type": "code",
   "execution_count": 40,
   "metadata": {},
   "outputs": [
    {
     "name": "stdout",
     "output_type": "stream",
     "text": [
      "\n",
      "\n",
      " Linear Regression SCORE :  0.763433258668093\n"
     ]
    }
   ],
   "source": [
    "#Printing the score for validation sets\n",
    "print(\"\\n\\n Linear Regression SCORE : \", score(Y_pred, y_true))"
   ]
  },
  {
   "cell_type": "code",
   "execution_count": 41,
   "metadata": {},
   "outputs": [
    {
     "data": {
      "text/plain": [
       "LinearRegression(copy_X=True, fit_intercept=True, n_jobs=None,\n",
       "         normalize=False)"
      ]
     },
     "execution_count": 41,
     "metadata": {},
     "output_type": "execute_result"
    }
   ],
   "source": [
    "#Initializing a new regressor\n",
    "lr2 = LinearRegression()\n",
    "\n",
    "#Fitting the regressor with complete training data(X_train_data,Y_train_data)\n",
    "lr2.fit(X_train_data,Y_train_data)"
   ]
  },
  {
   "cell_type": "code",
   "execution_count": 42,
   "metadata": {},
   "outputs": [],
   "source": [
    "#Predicting the target(Price) for predictors in the test data\n",
    "Y_pred2 = sc.inverse_transform(lr.predict(X_test))\n",
    "\n",
    "#Eliminating negative values in prediction for score calculation\n",
    "for i in range(len(Y_pred2)):\n",
    "   if Y_pred2[i] < 0:\n",
    "       Y_pred2[i] = 0"
   ]
  },
  {
   "cell_type": "code",
   "execution_count": 44,
   "metadata": {},
   "outputs": [],
   "source": [
    "import statsmodels.api as sm\n",
    "from statsmodels.stats import diagnostic as diag\n",
    "from statsmodels.stats.outliers_influence import variance_inflation_factor\n",
    "X_1 = sm.add_constant(X_train_data)"
   ]
  },
  {
   "cell_type": "code",
   "execution_count": 46,
   "metadata": {},
   "outputs": [],
   "source": [
    "model = sm.OLS(Y_train_data, X_1)\n",
    "est = model.fit()"
   ]
  },
  {
   "cell_type": "code",
   "execution_count": 47,
   "metadata": {},
   "outputs": [
    {
     "name": "stdout",
     "output_type": "stream",
     "text": [
      "8.005537933223131e-105 7.330907878973058e-110\n",
      "----------------------------------------------------------------------------------------------------\n",
      "For the Breusch-Pagan's Test\n",
      "The p-value was 8.006e-105\n",
      "We reject the null hypthoesis, so there is heterosecdasticity.\n"
     ]
    }
   ],
   "source": [
    "# Run the Breusch-Pagan test\n",
    "_, pval, __, f_pval = diag.het_breuschpagan(est.resid, est.model.exog)\n",
    "print(pval, f_pval)\n",
    "print('-'*100)\n",
    "\n",
    "# print the results of the test\n",
    "if pval > 0.05:\n",
    "    print(\"For the Breusch-Pagan's Test\")\n",
    "    print(\"The p-value was {:.4}\".format(pval))\n",
    "    print(\"We fail to reject the null hypthoesis, so there is no heterosecdasticity.\")\n",
    "\n",
    "else:\n",
    "    print(\"For the Breusch-Pagan's Test\")\n",
    "    print(\"The p-value was {:.4}\".format(pval))\n",
    "    print(\"We reject the null hypthoesis, so there is heterosecdasticity.\")"
   ]
  },
  {
   "cell_type": "code",
   "execution_count": 48,
   "metadata": {},
   "outputs": [
    {
     "data": {
      "image/png": "[encoded data removed]",
      "text/plain": [
       "<Figure size 432x288 with 1 Axes>"
      ]
     },
     "metadata": {
      "needs_background": "light"
     },
     "output_type": "display_data"
    },
    {
     "name": "stdout",
     "output_type": "stream",
     "text": [
      "The mean of the residuals is 1.9e-15\n"
     ]
    }
   ],
   "source": [
    "import pylab\n",
    "\n",
    "# check for the normality of the residuals\n",
    "sm.qqplot(est.resid, line='s')\n",
    "pylab.show()\n",
    "\n",
    "# also check that the mean of the residuals is approx. 0.\n",
    "mean_residuals = sum(est.resid)/ len(est.resid)\n",
    "print(\"The mean of the residuals is {:.4}\".format(mean_residuals))"
   ]
  },
  {
   "cell_type": "code",
   "execution_count": 49,
   "metadata": {},
   "outputs": [
    {
     "name": "stdout",
     "output_type": "stream",
     "text": [
      "                            OLS Regression Results                            \n",
      "==============================================================================\n",
      "Dep. Variable:                      y   R-squared:                       0.695\n",
      "Model:                            OLS   Adj. R-squared:                  0.694\n",
      "Method:                 Least Squares   F-statistic:                     1141.\n",
      "Date:                Mon, 24 Jun 2019   Prob (F-statistic):               0.00\n",
      "Time:                        21:57:52   Log-Likelihood:                -4965.9\n",
      "No. Observations:                6019   AIC:                             9958.\n",
      "Df Residuals:                    6006   BIC:                         1.005e+04\n",
      "Df Model:                          12                                         \n",
      "Covariance Type:            nonrobust                                         \n",
      "==============================================================================\n",
      "                 coef    std err          t      P>|t|      [0.025      0.975]\n",
      "------------------------------------------------------------------------------\n",
      "const        4.25e-17      0.007   5.97e-15      1.000      -0.014       0.014\n",
      "x1            -0.0153      0.008     -1.960      0.050      -0.031     3.9e-08\n",
      "x2             0.0110      0.007      1.488      0.137      -0.003       0.025\n",
      "x3            -0.0523      0.007     -7.270      0.000      -0.066      -0.038\n",
      "x4             0.2932      0.009     34.039      0.000       0.276       0.310\n",
      "x5             0.0072      0.007      0.981      0.327      -0.007       0.022\n",
      "x6            -0.1175      0.010    -12.229      0.000      -0.136      -0.099\n",
      "x7            -0.1090      0.010    -11.196      0.000      -0.128      -0.090\n",
      "x8            -0.0079      0.008     -1.016      0.310      -0.023       0.007\n",
      "x9            -0.1066      0.011     -9.379      0.000      -0.129      -0.084\n",
      "x10            0.0563      0.021      2.726      0.006       0.016       0.097\n",
      "x11            0.5622      0.019     30.142      0.000       0.526       0.599\n",
      "x12           -0.0927      0.009     -9.857      0.000      -0.111      -0.074\n",
      "==============================================================================\n",
      "Omnibus:                     4662.854   Durbin-Watson:                   2.029\n",
      "Prob(Omnibus):                  0.000   Jarque-Bera (JB):           374872.645\n",
      "Skew:                           3.093   Prob(JB):                         0.00\n",
      "Kurtosis:                      41.164   Cond. No.                         6.57\n",
      "==============================================================================\n",
      "\n",
      "Warnings:\n",
      "[1] Standard Errors assume that the covariance matrix of the errors is correctly specified.\n"
     ]
    }
   ],
   "source": [
    "print(est.summary())"
   ]
  },
  {
   "cell_type": "code",
   "execution_count": null,
   "metadata": {},
   "outputs": [],
   "source": []
  }
 ],
 "metadata": {
  "kernelspec": {
   "display_name": "Python 3",
   "language": "python",
   "name": "python3"
  },
  "language_info": {
   "codemirror_mode": {
    "name": "ipython",
    "version": 3
   },
   "file_extension": ".py",
   "mimetype": "text/x-python",
   "name": "python",
   "nbconvert_exporter": "python",
   "pygments_lexer": "ipython3",
   "version": "3.7.1"
  }
 },
 "nbformat": 4,
 "nbformat_minor": 2
}
