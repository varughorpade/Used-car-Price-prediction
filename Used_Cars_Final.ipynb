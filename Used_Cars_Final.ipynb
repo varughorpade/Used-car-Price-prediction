{
 "cells": [
  {
   "cell_type": "code",
   "execution_count": 2,
   "metadata": {},
   "outputs": [],
   "source": [
    "# linear algebra\n",
    "import numpy as np\n",
    "# data processing\n",
    "import pandas as pd\n",
    "# data visualization\n",
    "import seaborn as sns\n",
    "%matplotlib inline\n",
    "from matplotlib import pyplot as plt\n",
    "from matplotlib import style\n",
    "# Algorithms\n",
    "from sklearn import linear_model\n",
    "from sklearn.linear_model import LogisticRegression\n",
    "from sklearn.linear_model import LinearRegression\n",
    "from sklearn.ensemble import RandomForestClassifier\n",
    "from sklearn.linear_model import Perceptron\n",
    "from sklearn.linear_model import SGDClassifier\n",
    "from sklearn.tree import DecisionTreeClassifier\n",
    "from sklearn.neighbors import KNeighborsClassifier\n",
    "from sklearn.svm import SVC, LinearSVC\n",
    "from sklearn.naive_bayes import GaussianNB"
   ]
  },
  {
   "cell_type": "code",
   "execution_count": 390,
   "metadata": {},
   "outputs": [],
   "source": [
    "#Accessing the file locations\n",
    "train_path='C:/1_VISHAL/used cars/Participants_Data_Used_Cars/Participants_Data_Used_Cars/Data_train.xlsx'\n",
    "test_path='C:/1_VISHAL/used cars/Participants_Data_Used_Cars/Participants_Data_Used_Cars/Data_test.xlsx'\n",
    "submission_path='C:/1_VISHAL/used cars/Participants_Data_Used_Cars/Participants_Data_Used_Cars/Sample_submission.xlsx'"
   ]
  },
  {
   "cell_type": "code",
   "execution_count": 391,
   "metadata": {},
   "outputs": [],
   "source": [
    "#creating dataframe\n",
    "train_df=pd.read_excel(train_path)\n",
    "test_df=pd.read_excel(test_path)\n",
    "submission_df=pd.read_excel(submission_path)"
   ]
  },
  {
   "cell_type": "code",
   "execution_count": 392,
   "metadata": {},
   "outputs": [],
   "source": [
    "test_combined=pd.concat([test_df,submission_df],axis=1)"
   ]
  },
  {
   "cell_type": "code",
   "execution_count": 393,
   "metadata": {},
   "outputs": [],
   "source": [
    "#As New_Price Column contains lot of missing values hence dropping it from train and test df.\n",
    "train_df.drop(['New_Price'],axis=1,inplace=True)\n",
    "test_combined.drop(['New_Price'],axis=1,inplace=True)"
   ]
  },
  {
   "cell_type": "code",
   "execution_count": null,
   "metadata": {},
   "outputs": [],
   "source": []
  },
  {
   "cell_type": "code",
   "execution_count": 394,
   "metadata": {},
   "outputs": [
    {
     "name": "stderr",
     "output_type": "stream",
     "text": [
      "C:\\Users\\visha\\Anaconda3\\lib\\site-packages\\ipykernel_launcher.py:4: FutureWarning: Sorting because non-concatenation axis is not aligned. A future version\n",
      "of pandas will change to not sort by default.\n",
      "\n",
      "To accept the future behavior, pass 'sort=False'.\n",
      "\n",
      "To retain the current behavior and silence the warning, pass 'sort=True'.\n",
      "\n",
      "  after removing the cwd from sys.path.\n"
     ]
    },
    {
     "data": {
      "text/html": [
       "<div>\n",
       "<style scoped>\n",
       "    .dataframe tbody tr th:only-of-type {\n",
       "        vertical-align: middle;\n",
       "    }\n",
       "\n",
       "    .dataframe tbody tr th {\n",
       "        vertical-align: top;\n",
       "    }\n",
       "\n",
       "    .dataframe thead th {\n",
       "        text-align: right;\n",
       "    }\n",
       "</style>\n",
       "<table border=\"1\" class=\"dataframe\">\n",
       "  <thead>\n",
       "    <tr style=\"text-align: right;\">\n",
       "      <th></th>\n",
       "      <th>Total</th>\n",
       "      <th>%</th>\n",
       "    </tr>\n",
       "  </thead>\n",
       "  <tbody>\n",
       "    <tr>\n",
       "      <th>Engine</th>\n",
       "      <td>36</td>\n",
       "      <td>0.6</td>\n",
       "    </tr>\n",
       "    <tr>\n",
       "      <th>Fuel_Type</th>\n",
       "      <td>0</td>\n",
       "      <td>0.0</td>\n",
       "    </tr>\n",
       "    <tr>\n",
       "      <th>Kilometers_Driven</th>\n",
       "      <td>0</td>\n",
       "      <td>0.0</td>\n",
       "    </tr>\n",
       "    <tr>\n",
       "      <th>Location</th>\n",
       "      <td>0</td>\n",
       "      <td>0.0</td>\n",
       "    </tr>\n",
       "    <tr>\n",
       "      <th>Mileage</th>\n",
       "      <td>2</td>\n",
       "      <td>0.0</td>\n",
       "    </tr>\n",
       "    <tr>\n",
       "      <th>Name</th>\n",
       "      <td>0</td>\n",
       "      <td>0.0</td>\n",
       "    </tr>\n",
       "    <tr>\n",
       "      <th>Owner_Type</th>\n",
       "      <td>0</td>\n",
       "      <td>0.0</td>\n",
       "    </tr>\n",
       "    <tr>\n",
       "      <th>Power</th>\n",
       "      <td>36</td>\n",
       "      <td>0.6</td>\n",
       "    </tr>\n",
       "    <tr>\n",
       "      <th>Price</th>\n",
       "      <td>0</td>\n",
       "      <td>0.0</td>\n",
       "    </tr>\n",
       "    <tr>\n",
       "      <th>Seats</th>\n",
       "      <td>42</td>\n",
       "      <td>0.7</td>\n",
       "    </tr>\n",
       "    <tr>\n",
       "      <th>Transmission</th>\n",
       "      <td>0</td>\n",
       "      <td>0.0</td>\n",
       "    </tr>\n",
       "    <tr>\n",
       "      <th>Year</th>\n",
       "      <td>0</td>\n",
       "      <td>0.0</td>\n",
       "    </tr>\n",
       "  </tbody>\n",
       "</table>\n",
       "</div>"
      ],
      "text/plain": [
       "                   Total    %\n",
       "Engine                36  0.6\n",
       "Fuel_Type              0  0.0\n",
       "Kilometers_Driven      0  0.0\n",
       "Location               0  0.0\n",
       "Mileage                2  0.0\n",
       "Name                   0  0.0\n",
       "Owner_Type             0  0.0\n",
       "Power                 36  0.6\n",
       "Price                  0  0.0\n",
       "Seats                 42  0.7\n",
       "Transmission           0  0.0\n",
       "Year                   0  0.0"
      ]
     },
     "execution_count": 394,
     "metadata": {},
     "output_type": "execute_result"
    }
   ],
   "source": [
    "# checling missing values in all columns\n",
    "\n",
    "total = train_df.isnull().sum().sort_values(ascending=False)\n",
    "percent_1 =train_df.isnull().sum()/train_df.isnull().count()*100\n",
    "percent_2 = (round(percent_1,1)).sort_values(ascending=False)\n",
    "missing_data = pd.concat([total, percent_2], axis=1, keys=['Total', '%'])\n",
    "missing_data"
   ]
  },
  {
   "cell_type": "code",
   "execution_count": null,
   "metadata": {},
   "outputs": [],
   "source": []
  },
  {
   "cell_type": "code",
   "execution_count": 395,
   "metadata": {},
   "outputs": [],
   "source": [
    "# as most of the cars in data set are 5 seater..replacing NAN values with value 5\n",
    "train_df['Seats'].fillna('5', inplace=True)\n",
    "test_combined['Seats'].fillna('5', inplace=True)"
   ]
  },
  {
   "cell_type": "code",
   "execution_count": 396,
   "metadata": {},
   "outputs": [
    {
     "name": "stderr",
     "output_type": "stream",
     "text": [
      "C:\\Users\\visha\\Anaconda3\\lib\\site-packages\\ipykernel_launcher.py:1: SettingWithCopyWarning: \n",
      "A value is trying to be set on a copy of a slice from a DataFrame\n",
      "\n",
      "See the caveats in the documentation: http://pandas.pydata.org/pandas-docs/stable/indexing.html#indexing-view-versus-copy\n",
      "  \"\"\"Entry point for launching an IPython kernel.\n",
      "C:\\Users\\visha\\Anaconda3\\lib\\site-packages\\ipykernel_launcher.py:2: SettingWithCopyWarning: \n",
      "A value is trying to be set on a copy of a slice from a DataFrame\n",
      "\n",
      "See the caveats in the documentation: http://pandas.pydata.org/pandas-docs/stable/indexing.html#indexing-view-versus-copy\n",
      "  \n",
      "C:\\Users\\visha\\Anaconda3\\lib\\site-packages\\ipykernel_launcher.py:3: SettingWithCopyWarning: \n",
      "A value is trying to be set on a copy of a slice from a DataFrame\n",
      "\n",
      "See the caveats in the documentation: http://pandas.pydata.org/pandas-docs/stable/indexing.html#indexing-view-versus-copy\n",
      "  This is separate from the ipykernel package so we can avoid doing imports until\n",
      "C:\\Users\\visha\\Anaconda3\\lib\\site-packages\\ipykernel_launcher.py:4: SettingWithCopyWarning: \n",
      "A value is trying to be set on a copy of a slice from a DataFrame\n",
      "\n",
      "See the caveats in the documentation: http://pandas.pydata.org/pandas-docs/stable/indexing.html#indexing-view-versus-copy\n",
      "  after removing the cwd from sys.path.\n",
      "C:\\Users\\visha\\Anaconda3\\lib\\site-packages\\ipykernel_launcher.py:5: SettingWithCopyWarning: \n",
      "A value is trying to be set on a copy of a slice from a DataFrame\n",
      "\n",
      "See the caveats in the documentation: http://pandas.pydata.org/pandas-docs/stable/indexing.html#indexing-view-versus-copy\n",
      "  \"\"\"\n",
      "C:\\Users\\visha\\Anaconda3\\lib\\site-packages\\ipykernel_launcher.py:6: SettingWithCopyWarning: \n",
      "A value is trying to be set on a copy of a slice from a DataFrame\n",
      "\n",
      "See the caveats in the documentation: http://pandas.pydata.org/pandas-docs/stable/indexing.html#indexing-view-versus-copy\n",
      "  \n",
      "C:\\Users\\visha\\Anaconda3\\lib\\site-packages\\ipykernel_launcher.py:7: SettingWithCopyWarning: \n",
      "A value is trying to be set on a copy of a slice from a DataFrame\n",
      "\n",
      "See the caveats in the documentation: http://pandas.pydata.org/pandas-docs/stable/indexing.html#indexing-view-versus-copy\n",
      "  import sys\n",
      "C:\\Users\\visha\\Anaconda3\\lib\\site-packages\\ipykernel_launcher.py:8: SettingWithCopyWarning: \n",
      "A value is trying to be set on a copy of a slice from a DataFrame\n",
      "\n",
      "See the caveats in the documentation: http://pandas.pydata.org/pandas-docs/stable/indexing.html#indexing-view-versus-copy\n",
      "  \n",
      "C:\\Users\\visha\\Anaconda3\\lib\\site-packages\\ipykernel_launcher.py:9: SettingWithCopyWarning: \n",
      "A value is trying to be set on a copy of a slice from a DataFrame\n",
      "\n",
      "See the caveats in the documentation: http://pandas.pydata.org/pandas-docs/stable/indexing.html#indexing-view-versus-copy\n",
      "  if __name__ == '__main__':\n",
      "C:\\Users\\visha\\Anaconda3\\lib\\site-packages\\ipykernel_launcher.py:10: SettingWithCopyWarning: \n",
      "A value is trying to be set on a copy of a slice from a DataFrame\n",
      "\n",
      "See the caveats in the documentation: http://pandas.pydata.org/pandas-docs/stable/indexing.html#indexing-view-versus-copy\n",
      "  # Remove the CWD from sys.path while we load stuff.\n",
      "C:\\Users\\visha\\Anaconda3\\lib\\site-packages\\ipykernel_launcher.py:11: SettingWithCopyWarning: \n",
      "A value is trying to be set on a copy of a slice from a DataFrame\n",
      "\n",
      "See the caveats in the documentation: http://pandas.pydata.org/pandas-docs/stable/indexing.html#indexing-view-versus-copy\n",
      "  # This is added back by InteractiveShellApp.init_path()\n",
      "C:\\Users\\visha\\Anaconda3\\lib\\site-packages\\ipykernel_launcher.py:12: SettingWithCopyWarning: \n",
      "A value is trying to be set on a copy of a slice from a DataFrame\n",
      "\n",
      "See the caveats in the documentation: http://pandas.pydata.org/pandas-docs/stable/indexing.html#indexing-view-versus-copy\n",
      "  if sys.path[0] == '':\n",
      "C:\\Users\\visha\\Anaconda3\\lib\\site-packages\\ipykernel_launcher.py:13: SettingWithCopyWarning: \n",
      "A value is trying to be set on a copy of a slice from a DataFrame\n",
      "\n",
      "See the caveats in the documentation: http://pandas.pydata.org/pandas-docs/stable/indexing.html#indexing-view-versus-copy\n",
      "  del sys.path[0]\n",
      "C:\\Users\\visha\\Anaconda3\\lib\\site-packages\\ipykernel_launcher.py:14: SettingWithCopyWarning: \n",
      "A value is trying to be set on a copy of a slice from a DataFrame\n",
      "\n",
      "See the caveats in the documentation: http://pandas.pydata.org/pandas-docs/stable/indexing.html#indexing-view-versus-copy\n",
      "  \n",
      "C:\\Users\\visha\\Anaconda3\\lib\\site-packages\\ipykernel_launcher.py:15: SettingWithCopyWarning: \n",
      "A value is trying to be set on a copy of a slice from a DataFrame\n",
      "\n",
      "See the caveats in the documentation: http://pandas.pydata.org/pandas-docs/stable/indexing.html#indexing-view-versus-copy\n",
      "  from ipykernel import kernelapp as app\n",
      "C:\\Users\\visha\\Anaconda3\\lib\\site-packages\\ipykernel_launcher.py:16: SettingWithCopyWarning: \n",
      "A value is trying to be set on a copy of a slice from a DataFrame\n",
      "\n",
      "See the caveats in the documentation: http://pandas.pydata.org/pandas-docs/stable/indexing.html#indexing-view-versus-copy\n",
      "  app.launch_new_instance()\n",
      "C:\\Users\\visha\\Anaconda3\\lib\\site-packages\\ipykernel_launcher.py:17: SettingWithCopyWarning: \n",
      "A value is trying to be set on a copy of a slice from a DataFrame\n",
      "\n",
      "See the caveats in the documentation: http://pandas.pydata.org/pandas-docs/stable/indexing.html#indexing-view-versus-copy\n",
      "C:\\Users\\visha\\Anaconda3\\lib\\site-packages\\ipykernel_launcher.py:18: SettingWithCopyWarning: \n",
      "A value is trying to be set on a copy of a slice from a DataFrame\n",
      "\n",
      "See the caveats in the documentation: http://pandas.pydata.org/pandas-docs/stable/indexing.html#indexing-view-versus-copy\n",
      "C:\\Users\\visha\\Anaconda3\\lib\\site-packages\\ipykernel_launcher.py:19: SettingWithCopyWarning: \n",
      "A value is trying to be set on a copy of a slice from a DataFrame\n",
      "\n",
      "See the caveats in the documentation: http://pandas.pydata.org/pandas-docs/stable/indexing.html#indexing-view-versus-copy\n",
      "C:\\Users\\visha\\Anaconda3\\lib\\site-packages\\ipykernel_launcher.py:20: SettingWithCopyWarning: \n",
      "A value is trying to be set on a copy of a slice from a DataFrame\n",
      "\n",
      "See the caveats in the documentation: http://pandas.pydata.org/pandas-docs/stable/indexing.html#indexing-view-versus-copy\n",
      "C:\\Users\\visha\\Anaconda3\\lib\\site-packages\\ipykernel_launcher.py:21: SettingWithCopyWarning: \n",
      "A value is trying to be set on a copy of a slice from a DataFrame\n",
      "\n",
      "See the caveats in the documentation: http://pandas.pydata.org/pandas-docs/stable/indexing.html#indexing-view-versus-copy\n",
      "C:\\Users\\visha\\Anaconda3\\lib\\site-packages\\ipykernel_launcher.py:22: SettingWithCopyWarning: \n",
      "A value is trying to be set on a copy of a slice from a DataFrame\n",
      "\n",
      "See the caveats in the documentation: http://pandas.pydata.org/pandas-docs/stable/indexing.html#indexing-view-versus-copy\n",
      "C:\\Users\\visha\\Anaconda3\\lib\\site-packages\\ipykernel_launcher.py:23: SettingWithCopyWarning: \n",
      "A value is trying to be set on a copy of a slice from a DataFrame\n",
      "\n",
      "See the caveats in the documentation: http://pandas.pydata.org/pandas-docs/stable/indexing.html#indexing-view-versus-copy\n",
      "C:\\Users\\visha\\Anaconda3\\lib\\site-packages\\ipykernel_launcher.py:24: SettingWithCopyWarning: \n",
      "A value is trying to be set on a copy of a slice from a DataFrame\n",
      "\n",
      "See the caveats in the documentation: http://pandas.pydata.org/pandas-docs/stable/indexing.html#indexing-view-versus-copy\n",
      "C:\\Users\\visha\\Anaconda3\\lib\\site-packages\\ipykernel_launcher.py:25: SettingWithCopyWarning: \n",
      "A value is trying to be set on a copy of a slice from a DataFrame\n",
      "\n",
      "See the caveats in the documentation: http://pandas.pydata.org/pandas-docs/stable/indexing.html#indexing-view-versus-copy\n",
      "C:\\Users\\visha\\Anaconda3\\lib\\site-packages\\ipykernel_launcher.py:26: SettingWithCopyWarning: \n",
      "A value is trying to be set on a copy of a slice from a DataFrame\n",
      "\n",
      "See the caveats in the documentation: http://pandas.pydata.org/pandas-docs/stable/indexing.html#indexing-view-versus-copy\n",
      "C:\\Users\\visha\\Anaconda3\\lib\\site-packages\\ipykernel_launcher.py:27: SettingWithCopyWarning: \n",
      "A value is trying to be set on a copy of a slice from a DataFrame\n",
      "\n",
      "See the caveats in the documentation: http://pandas.pydata.org/pandas-docs/stable/indexing.html#indexing-view-versus-copy\n",
      "C:\\Users\\visha\\Anaconda3\\lib\\site-packages\\ipykernel_launcher.py:28: SettingWithCopyWarning: \n",
      "A value is trying to be set on a copy of a slice from a DataFrame\n",
      "\n",
      "See the caveats in the documentation: http://pandas.pydata.org/pandas-docs/stable/indexing.html#indexing-view-versus-copy\n",
      "C:\\Users\\visha\\Anaconda3\\lib\\site-packages\\ipykernel_launcher.py:29: SettingWithCopyWarning: \n",
      "A value is trying to be set on a copy of a slice from a DataFrame\n",
      "\n",
      "See the caveats in the documentation: http://pandas.pydata.org/pandas-docs/stable/indexing.html#indexing-view-versus-copy\n",
      "C:\\Users\\visha\\Anaconda3\\lib\\site-packages\\ipykernel_launcher.py:30: SettingWithCopyWarning: \n",
      "A value is trying to be set on a copy of a slice from a DataFrame\n",
      "\n",
      "See the caveats in the documentation: http://pandas.pydata.org/pandas-docs/stable/indexing.html#indexing-view-versus-copy\n"
     ]
    },
    {
     "name": "stderr",
     "output_type": "stream",
     "text": [
      "C:\\Users\\visha\\Anaconda3\\lib\\site-packages\\ipykernel_launcher.py:31: SettingWithCopyWarning: \n",
      "A value is trying to be set on a copy of a slice from a DataFrame\n",
      "\n",
      "See the caveats in the documentation: http://pandas.pydata.org/pandas-docs/stable/indexing.html#indexing-view-versus-copy\n",
      "C:\\Users\\visha\\Anaconda3\\lib\\site-packages\\ipykernel_launcher.py:32: SettingWithCopyWarning: \n",
      "A value is trying to be set on a copy of a slice from a DataFrame\n",
      "\n",
      "See the caveats in the documentation: http://pandas.pydata.org/pandas-docs/stable/indexing.html#indexing-view-versus-copy\n",
      "C:\\Users\\visha\\Anaconda3\\lib\\site-packages\\ipykernel_launcher.py:35: SettingWithCopyWarning: \n",
      "A value is trying to be set on a copy of a slice from a DataFrame\n",
      "\n",
      "See the caveats in the documentation: http://pandas.pydata.org/pandas-docs/stable/indexing.html#indexing-view-versus-copy\n",
      "C:\\Users\\visha\\Anaconda3\\lib\\site-packages\\ipykernel_launcher.py:36: SettingWithCopyWarning: \n",
      "A value is trying to be set on a copy of a slice from a DataFrame\n",
      "\n",
      "See the caveats in the documentation: http://pandas.pydata.org/pandas-docs/stable/indexing.html#indexing-view-versus-copy\n",
      "C:\\Users\\visha\\Anaconda3\\lib\\site-packages\\ipykernel_launcher.py:37: SettingWithCopyWarning: \n",
      "A value is trying to be set on a copy of a slice from a DataFrame\n",
      "\n",
      "See the caveats in the documentation: http://pandas.pydata.org/pandas-docs/stable/indexing.html#indexing-view-versus-copy\n",
      "C:\\Users\\visha\\Anaconda3\\lib\\site-packages\\ipykernel_launcher.py:38: SettingWithCopyWarning: \n",
      "A value is trying to be set on a copy of a slice from a DataFrame\n",
      "\n",
      "See the caveats in the documentation: http://pandas.pydata.org/pandas-docs/stable/indexing.html#indexing-view-versus-copy\n",
      "C:\\Users\\visha\\Anaconda3\\lib\\site-packages\\ipykernel_launcher.py:39: SettingWithCopyWarning: \n",
      "A value is trying to be set on a copy of a slice from a DataFrame\n",
      "\n",
      "See the caveats in the documentation: http://pandas.pydata.org/pandas-docs/stable/indexing.html#indexing-view-versus-copy\n",
      "C:\\Users\\visha\\Anaconda3\\lib\\site-packages\\ipykernel_launcher.py:40: SettingWithCopyWarning: \n",
      "A value is trying to be set on a copy of a slice from a DataFrame\n",
      "\n",
      "See the caveats in the documentation: http://pandas.pydata.org/pandas-docs/stable/indexing.html#indexing-view-versus-copy\n",
      "C:\\Users\\visha\\Anaconda3\\lib\\site-packages\\ipykernel_launcher.py:41: SettingWithCopyWarning: \n",
      "A value is trying to be set on a copy of a slice from a DataFrame\n",
      "\n",
      "See the caveats in the documentation: http://pandas.pydata.org/pandas-docs/stable/indexing.html#indexing-view-versus-copy\n",
      "C:\\Users\\visha\\Anaconda3\\lib\\site-packages\\ipykernel_launcher.py:42: SettingWithCopyWarning: \n",
      "A value is trying to be set on a copy of a slice from a DataFrame\n",
      "\n",
      "See the caveats in the documentation: http://pandas.pydata.org/pandas-docs/stable/indexing.html#indexing-view-versus-copy\n",
      "C:\\Users\\visha\\Anaconda3\\lib\\site-packages\\ipykernel_launcher.py:43: SettingWithCopyWarning: \n",
      "A value is trying to be set on a copy of a slice from a DataFrame\n",
      "\n",
      "See the caveats in the documentation: http://pandas.pydata.org/pandas-docs/stable/indexing.html#indexing-view-versus-copy\n",
      "C:\\Users\\visha\\Anaconda3\\lib\\site-packages\\ipykernel_launcher.py:44: SettingWithCopyWarning: \n",
      "A value is trying to be set on a copy of a slice from a DataFrame\n",
      "\n",
      "See the caveats in the documentation: http://pandas.pydata.org/pandas-docs/stable/indexing.html#indexing-view-versus-copy\n",
      "C:\\Users\\visha\\Anaconda3\\lib\\site-packages\\ipykernel_launcher.py:45: SettingWithCopyWarning: \n",
      "A value is trying to be set on a copy of a slice from a DataFrame\n",
      "\n",
      "See the caveats in the documentation: http://pandas.pydata.org/pandas-docs/stable/indexing.html#indexing-view-versus-copy\n",
      "C:\\Users\\visha\\Anaconda3\\lib\\site-packages\\ipykernel_launcher.py:46: SettingWithCopyWarning: \n",
      "A value is trying to be set on a copy of a slice from a DataFrame\n",
      "\n",
      "See the caveats in the documentation: http://pandas.pydata.org/pandas-docs/stable/indexing.html#indexing-view-versus-copy\n",
      "C:\\Users\\visha\\Anaconda3\\lib\\site-packages\\ipykernel_launcher.py:47: SettingWithCopyWarning: \n",
      "A value is trying to be set on a copy of a slice from a DataFrame\n",
      "\n",
      "See the caveats in the documentation: http://pandas.pydata.org/pandas-docs/stable/indexing.html#indexing-view-versus-copy\n",
      "C:\\Users\\visha\\Anaconda3\\lib\\site-packages\\ipykernel_launcher.py:48: SettingWithCopyWarning: \n",
      "A value is trying to be set on a copy of a slice from a DataFrame\n",
      "\n",
      "See the caveats in the documentation: http://pandas.pydata.org/pandas-docs/stable/indexing.html#indexing-view-versus-copy\n",
      "C:\\Users\\visha\\Anaconda3\\lib\\site-packages\\ipykernel_launcher.py:49: SettingWithCopyWarning: \n",
      "A value is trying to be set on a copy of a slice from a DataFrame\n",
      "\n",
      "See the caveats in the documentation: http://pandas.pydata.org/pandas-docs/stable/indexing.html#indexing-view-versus-copy\n",
      "C:\\Users\\visha\\Anaconda3\\lib\\site-packages\\ipykernel_launcher.py:50: SettingWithCopyWarning: \n",
      "A value is trying to be set on a copy of a slice from a DataFrame\n",
      "\n",
      "See the caveats in the documentation: http://pandas.pydata.org/pandas-docs/stable/indexing.html#indexing-view-versus-copy\n",
      "C:\\Users\\visha\\Anaconda3\\lib\\site-packages\\ipykernel_launcher.py:51: SettingWithCopyWarning: \n",
      "A value is trying to be set on a copy of a slice from a DataFrame\n",
      "\n",
      "See the caveats in the documentation: http://pandas.pydata.org/pandas-docs/stable/indexing.html#indexing-view-versus-copy\n",
      "C:\\Users\\visha\\Anaconda3\\lib\\site-packages\\ipykernel_launcher.py:52: SettingWithCopyWarning: \n",
      "A value is trying to be set on a copy of a slice from a DataFrame\n",
      "\n",
      "See the caveats in the documentation: http://pandas.pydata.org/pandas-docs/stable/indexing.html#indexing-view-versus-copy\n",
      "C:\\Users\\visha\\Anaconda3\\lib\\site-packages\\ipykernel_launcher.py:53: SettingWithCopyWarning: \n",
      "A value is trying to be set on a copy of a slice from a DataFrame\n",
      "\n",
      "See the caveats in the documentation: http://pandas.pydata.org/pandas-docs/stable/indexing.html#indexing-view-versus-copy\n",
      "C:\\Users\\visha\\Anaconda3\\lib\\site-packages\\ipykernel_launcher.py:54: SettingWithCopyWarning: \n",
      "A value is trying to be set on a copy of a slice from a DataFrame\n",
      "\n",
      "See the caveats in the documentation: http://pandas.pydata.org/pandas-docs/stable/indexing.html#indexing-view-versus-copy\n",
      "C:\\Users\\visha\\Anaconda3\\lib\\site-packages\\ipykernel_launcher.py:55: SettingWithCopyWarning: \n",
      "A value is trying to be set on a copy of a slice from a DataFrame\n",
      "\n",
      "See the caveats in the documentation: http://pandas.pydata.org/pandas-docs/stable/indexing.html#indexing-view-versus-copy\n",
      "C:\\Users\\visha\\Anaconda3\\lib\\site-packages\\ipykernel_launcher.py:56: SettingWithCopyWarning: \n",
      "A value is trying to be set on a copy of a slice from a DataFrame\n",
      "\n",
      "See the caveats in the documentation: http://pandas.pydata.org/pandas-docs/stable/indexing.html#indexing-view-versus-copy\n",
      "C:\\Users\\visha\\Anaconda3\\lib\\site-packages\\ipykernel_launcher.py:57: SettingWithCopyWarning: \n",
      "A value is trying to be set on a copy of a slice from a DataFrame\n",
      "\n",
      "See the caveats in the documentation: http://pandas.pydata.org/pandas-docs/stable/indexing.html#indexing-view-versus-copy\n",
      "C:\\Users\\visha\\Anaconda3\\lib\\site-packages\\ipykernel_launcher.py:58: SettingWithCopyWarning: \n",
      "A value is trying to be set on a copy of a slice from a DataFrame\n",
      "\n",
      "See the caveats in the documentation: http://pandas.pydata.org/pandas-docs/stable/indexing.html#indexing-view-versus-copy\n",
      "C:\\Users\\visha\\Anaconda3\\lib\\site-packages\\ipykernel_launcher.py:59: SettingWithCopyWarning: \n",
      "A value is trying to be set on a copy of a slice from a DataFrame\n",
      "\n",
      "See the caveats in the documentation: http://pandas.pydata.org/pandas-docs/stable/indexing.html#indexing-view-versus-copy\n",
      "C:\\Users\\visha\\Anaconda3\\lib\\site-packages\\ipykernel_launcher.py:60: SettingWithCopyWarning: \n",
      "A value is trying to be set on a copy of a slice from a DataFrame\n",
      "\n",
      "See the caveats in the documentation: http://pandas.pydata.org/pandas-docs/stable/indexing.html#indexing-view-versus-copy\n",
      "C:\\Users\\visha\\Anaconda3\\lib\\site-packages\\ipykernel_launcher.py:61: SettingWithCopyWarning: \n",
      "A value is trying to be set on a copy of a slice from a DataFrame\n",
      "\n",
      "See the caveats in the documentation: http://pandas.pydata.org/pandas-docs/stable/indexing.html#indexing-view-versus-copy\n",
      "C:\\Users\\visha\\Anaconda3\\lib\\site-packages\\ipykernel_launcher.py:62: SettingWithCopyWarning: \n",
      "A value is trying to be set on a copy of a slice from a DataFrame\n",
      "\n",
      "See the caveats in the documentation: http://pandas.pydata.org/pandas-docs/stable/indexing.html#indexing-view-versus-copy\n",
      "C:\\Users\\visha\\Anaconda3\\lib\\site-packages\\ipykernel_launcher.py:63: SettingWithCopyWarning: \n",
      "A value is trying to be set on a copy of a slice from a DataFrame\n",
      "\n",
      "See the caveats in the documentation: http://pandas.pydata.org/pandas-docs/stable/indexing.html#indexing-view-versus-copy\n",
      "C:\\Users\\visha\\Anaconda3\\lib\\site-packages\\ipykernel_launcher.py:64: SettingWithCopyWarning: \n",
      "A value is trying to be set on a copy of a slice from a DataFrame\n",
      "\n",
      "See the caveats in the documentation: http://pandas.pydata.org/pandas-docs/stable/indexing.html#indexing-view-versus-copy\n"
     ]
    },
    {
     "name": "stderr",
     "output_type": "stream",
     "text": [
      "C:\\Users\\visha\\Anaconda3\\lib\\site-packages\\ipykernel_launcher.py:65: SettingWithCopyWarning: \n",
      "A value is trying to be set on a copy of a slice from a DataFrame\n",
      "\n",
      "See the caveats in the documentation: http://pandas.pydata.org/pandas-docs/stable/indexing.html#indexing-view-versus-copy\n",
      "C:\\Users\\visha\\Anaconda3\\lib\\site-packages\\ipykernel_launcher.py:66: SettingWithCopyWarning: \n",
      "A value is trying to be set on a copy of a slice from a DataFrame\n",
      "\n",
      "See the caveats in the documentation: http://pandas.pydata.org/pandas-docs/stable/indexing.html#indexing-view-versus-copy\n"
     ]
    }
   ],
   "source": [
    "#missing data for Engine and Power columns can be found from similar car types.As cars from same segment often have same engine\n",
    "#and power output\n",
    "\n",
    "train_df['Engine'][train_df['Name'].str.contains('Honda City 1.5 GXI')]=\"1493 CC\"\n",
    "train_df['Power'][train_df['Name'].str.contains('Honda City 1.5 GXI')]=\"100 bhp\"\n",
    "train_df['Engine'][train_df['Name'].str.contains('Maruti Swift 1.3 VXi')]=\"1248 CC\"\n",
    "train_df['Power'][train_df['Name'].str.contains('Maruti Swift 1.3 VXi')]=\"74 bhp\"\n",
    "train_df['Engine'][train_df['Name'].str.contains('Land Rover Range Rover 3.0 D')]=\"2993 CC\"\n",
    "train_df['Power'][train_df['Name'].str.contains('Land Rover Range Rover 3.0 D')]=\"255 bhp\"\n",
    "train_df['Engine'][train_df['Name'].str.contains('Honda City 1.3 DX')]=\"1298 CC\"\n",
    "train_df['Power'][train_df['Name'].str.contains('Honda City 1.3 DX')]=\"90 bhp\"\n",
    "train_df['Engine'][train_df['Name'].str.contains('Maruti Swift 1.3')]=\"1248 CC\"\n",
    "train_df['Power'][train_df['Name'].str.contains('Maruti Swift 1.3')]=\"74 bhp\"\n",
    "train_df['Engine'][train_df['Name'].str.contains('BMW 5 Series 520d Sedan')]=\"2993 CC\"\n",
    "train_df['Power'][train_df['Name'].str.contains('BMW 5 Series 520d Sedan')]=\"265 bhp\"\n",
    "train_df['Engine'][train_df['Name'].str.contains('Fiat Punto')]=\"1172 CC\"\n",
    "train_df['Power'][train_df['Name'].str.contains('Fiat Punt')]=\"67 bhp\"\n",
    "train_df['Engine'][train_df['Name'].str.contains('Hyundai Santro GLS II - Euro II')]=\"1086 CC\"\n",
    "train_df['Power'][train_df['Name'].str.contains('Hyundai Santro GLS II - Euro II')]=\"62.1 bhp\"\n",
    "train_df['Engine'][train_df['Name'].str.contains('Hyundai Santro LP zipPlus')]=\"1086 CC\"\n",
    "train_df['Power'][train_df['Name'].str.contains('Hyundai Santro LP zipPlus')]=\"62.1 bhp\"\n",
    "train_df['Engine'][train_df['Name'].str.contains('Hyundai Santro Xing XG')]=\"1086 CC\"\n",
    "train_df['Power'][train_df['Name'].str.contains('Hyundai Santro Xing XG')]=\"62.1 bhp\"\n",
    "train_df['Engine'][train_df['Name'].str.contains('Honda CR-V AT With Sun Roof')]=\"1997 CC\"\n",
    "train_df['Power'][train_df['Name'].str.contains('Honda CR-V AT With Sun Roof')]=\"154 bhp\"\n",
    "train_df['Engine'][train_df['Name'].str.contains('Honda Jazz Select Edition')]=\"1199 CC\"\n",
    "train_df['Power'][train_df['Name'].str.contains('Honda Jazz Select Edition')]=\"89 bhp\"\n",
    "train_df['Engine'][train_df['Name'].str.contains('Land Rover Range Rover Sport 2005 2012 Sport')]=\"2995 CC\"\n",
    "train_df['Power'][train_df['Name'].str.contains('Land Rover Range Rover Sport 2005 2012 Sport')]=\"335 bhp\"\n",
    "train_df['Engine'][train_df['Name'].str.contains('Maruti Wagon R Vx')]=\"998 CC\"\n",
    "train_df['Power'][train_df['Name'].str.contains('Maruti Wagon R Vx')]=\"67 bhp\"\n",
    "train_df['Engine'][train_df['Name'].str.contains('Toyota Etios Liva V')]=\"1197 CC\"\n",
    "train_df['Power'][train_df['Name'].str.contains('Toyota Etios Liva V')]=\"78.9 bhp\"\n",
    "train_df['Mileage'][train_df['Name'].str.contains('Mahindra E Verito D4')]=\"110 Kmpl\"\n",
    "train_df['Mileage'][train_df['Name'].str.contains('Toyota Prius 2009-2016 Z4')]=\"23.9 Kmpl\"\n",
    "\n",
    "\n",
    "test_combined['Engine'][test_combined['Name'].str.contains('Honda City 1.5 GXI')]=\"1493 CC\"\n",
    "test_combined['Power'][test_combined['Name'].str.contains('Honda City 1.5 GXI')]=\"100 bhp\"\n",
    "test_combined['Engine'][test_combined['Name'].str.contains('Maruti Swift 1.3 VXi')]=\"1248 CC\"\n",
    "test_combined['Power'][test_combined['Name'].str.contains('Maruti Swift 1.3 VXi')]=\"74 bhp\"\n",
    "test_combined['Engine'][test_combined['Name'].str.contains('Land Rover Range Rover 3.0 D')]=\"2993 CC\"\n",
    "test_combined['Power'][test_combined['Name'].str.contains('Land Rover Range Rover 3.0 D')]=\"255 bhp\"\n",
    "test_combined['Engine'][test_combined['Name'].str.contains('Honda City 1.3 DX')]=\"1298 CC\"\n",
    "test_combined['Power'][test_combined['Name'].str.contains('Honda City 1.3 DX')]=\"90 bhp\"\n",
    "test_combined['Engine'][test_combined['Name'].str.contains('Maruti Swift 1.3')]=\"1248 CC\"\n",
    "test_combined['Power'][test_combined['Name'].str.contains('Maruti Swift 1.3')]=\"74 bhp\"\n",
    "test_combined['Engine'][test_combined['Name'].str.contains('BMW 5 Series 520d Sedan')]=\"2993 CC\"\n",
    "test_combined['Power'][test_combined['Name'].str.contains('BMW 5 Series 520d Sedan')]=\"265 bhp\"\n",
    "test_combined['Engine'][test_combined['Name'].str.contains('Fiat Punto')]=\"1172 CC\"\n",
    "test_combined['Power'][test_combined['Name'].str.contains('Fiat Punt')]=\"67 bhp\"\n",
    "test_combined['Engine'][test_combined['Name'].str.contains('Hyundai Santro GLS II - Euro II')]=\"1086 CC\"\n",
    "test_combined['Power'][test_combined['Name'].str.contains('Hyundai Santro GLS II - Euro II')]=\"62.1 bhp\"\n",
    "test_combined['Engine'][test_combined['Name'].str.contains('Hyundai Santro LP zipPlus')]=\"1086 CC\"\n",
    "test_combined['Power'][test_combined['Name'].str.contains('Hyundai Santro LP zipPlus')]=\"62.1 bhp\"\n",
    "test_combined['Engine'][test_combined['Name'].str.contains('Hyundai Santro Xing XG')]=\"1086 CC\"\n",
    "test_combined['Power'][test_combined['Name'].str.contains('Hyundai Santro Xing XG')]=\"62.1 bhp\"\n",
    "test_combined['Engine'][test_combined['Name'].str.contains('Honda CR-V AT With Sun Roof')]=\"1997 CC\"\n",
    "test_combined['Power'][test_combined['Name'].str.contains('Honda CR-V AT With Sun Roof')]=\"154 bhp\"\n",
    "test_combined['Engine'][test_combined['Name'].str.contains('Honda Jazz Select Edition')]=\"1199 CC\"\n",
    "test_combined['Power'][test_combined['Name'].str.contains('Honda Jazz Select Edition')]=\"89 bhp\"\n",
    "test_combined['Engine'][test_combined['Name'].str.contains('Land Rover Range Rover Sport 2005 2012 Sport')]=\"2995 CC\"\n",
    "test_combined['Power'][test_combined['Name'].str.contains('Land Rover Range Rover Sport 2005 2012 Sport')]=\"335 bhp\"\n",
    "test_combined['Engine'][test_combined['Name'].str.contains('Maruti Wagon R Vx')]=\"998 CC\"\n",
    "test_combined['Power'][test_combined['Name'].str.contains('Maruti Wagon R Vx')]=\"67 bhp\"\n",
    "test_combined['Engine'][test_combined['Name'].str.contains('Toyota Etios Liva V')]=\"1197 CC\"\n",
    "test_combined['Power'][test_combined['Name'].str.contains('Toyota Etios Liva V')]=\"78.9 bhp\"\n",
    "test_combined['Mileage'][test_combined['Name'].str.contains('Mahindra E Verito D4')]=\"110 Kmpl\"\n",
    "test_combined['Mileage'][test_combined['Name'].str.contains('Toyota Prius 2009-2016 Z4')]=\"23.9 Kmpl\""
   ]
  },
  {
   "cell_type": "code",
   "execution_count": null,
   "metadata": {},
   "outputs": [],
   "source": []
  },
  {
   "cell_type": "code",
   "execution_count": 482,
   "metadata": {},
   "outputs": [
    {
     "name": "stdout",
     "output_type": "stream",
     "text": [
      "Empty DataFrame\n",
      "Columns: [Kilometers_Driven, Mileage, Engine, Power, Seats, Price, Location_Ahmedabad, Location_Bangalore, Location_Chennai, Location_Coimbatore, Location_Delhi, Location_Hyderabad, Location_Jaipur, Location_Kochi, Location_Kolkata, Location_Mumbai, Location_Pune, Fuel_Type_Diesel, Fuel_Type_Other, Fuel_Type_Petrol, Transmission_Automatic, Transmission_Manual, Owner_Type_First, Owner_Type_Second, Owner_Type_Third, Condition_Mid, Condition_New, Condition_Old, Category_High, Category_Mid, Category_Low]\n",
      "Index: []\n",
      "\n",
      "[0 rows x 31 columns]\n"
     ]
    }
   ],
   "source": [
    "#there are still some columns in test df with NaN value...getting those rows using below command\n",
    "\n",
    "print(test_combined[test_combined.isnull().any(axis=1)])"
   ]
  },
  {
   "cell_type": "code",
   "execution_count": 399,
   "metadata": {},
   "outputs": [
    {
     "name": "stderr",
     "output_type": "stream",
     "text": [
      "C:\\Users\\visha\\Anaconda3\\lib\\site-packages\\ipykernel_launcher.py:1: SettingWithCopyWarning: \n",
      "A value is trying to be set on a copy of a slice from a DataFrame\n",
      "\n",
      "See the caveats in the documentation: http://pandas.pydata.org/pandas-docs/stable/indexing.html#indexing-view-versus-copy\n",
      "  \"\"\"Entry point for launching an IPython kernel.\n",
      "C:\\Users\\visha\\Anaconda3\\lib\\site-packages\\ipykernel_launcher.py:2: SettingWithCopyWarning: \n",
      "A value is trying to be set on a copy of a slice from a DataFrame\n",
      "\n",
      "See the caveats in the documentation: http://pandas.pydata.org/pandas-docs/stable/indexing.html#indexing-view-versus-copy\n",
      "  \n",
      "C:\\Users\\visha\\Anaconda3\\lib\\site-packages\\ipykernel_launcher.py:4: SettingWithCopyWarning: \n",
      "A value is trying to be set on a copy of a slice from a DataFrame\n",
      "\n",
      "See the caveats in the documentation: http://pandas.pydata.org/pandas-docs/stable/indexing.html#indexing-view-versus-copy\n",
      "  after removing the cwd from sys.path.\n",
      "C:\\Users\\visha\\Anaconda3\\lib\\site-packages\\ipykernel_launcher.py:5: SettingWithCopyWarning: \n",
      "A value is trying to be set on a copy of a slice from a DataFrame\n",
      "\n",
      "See the caveats in the documentation: http://pandas.pydata.org/pandas-docs/stable/indexing.html#indexing-view-versus-copy\n",
      "  \"\"\"\n",
      "C:\\Users\\visha\\Anaconda3\\lib\\site-packages\\ipykernel_launcher.py:7: SettingWithCopyWarning: \n",
      "A value is trying to be set on a copy of a slice from a DataFrame\n",
      "\n",
      "See the caveats in the documentation: http://pandas.pydata.org/pandas-docs/stable/indexing.html#indexing-view-versus-copy\n",
      "  import sys\n",
      "C:\\Users\\visha\\Anaconda3\\lib\\site-packages\\ipykernel_launcher.py:8: SettingWithCopyWarning: \n",
      "A value is trying to be set on a copy of a slice from a DataFrame\n",
      "\n",
      "See the caveats in the documentation: http://pandas.pydata.org/pandas-docs/stable/indexing.html#indexing-view-versus-copy\n",
      "  \n",
      "C:\\Users\\visha\\Anaconda3\\lib\\site-packages\\ipykernel_launcher.py:10: SettingWithCopyWarning: \n",
      "A value is trying to be set on a copy of a slice from a DataFrame\n",
      "\n",
      "See the caveats in the documentation: http://pandas.pydata.org/pandas-docs/stable/indexing.html#indexing-view-versus-copy\n",
      "  # Remove the CWD from sys.path while we load stuff.\n",
      "C:\\Users\\visha\\Anaconda3\\lib\\site-packages\\ipykernel_launcher.py:11: SettingWithCopyWarning: \n",
      "A value is trying to be set on a copy of a slice from a DataFrame\n",
      "\n",
      "See the caveats in the documentation: http://pandas.pydata.org/pandas-docs/stable/indexing.html#indexing-view-versus-copy\n",
      "  # This is added back by InteractiveShellApp.init_path()\n"
     ]
    }
   ],
   "source": [
    "#filling up NaN values in Engind and Power columns with similar segment cars values\n",
    "\n",
    "test_combined['Engine'][test_combined['Name'].str.contains('Skoda Laura 1.8 TSI Ambition')]=\"1798 CC\"\n",
    "test_combined['Power'][test_combined['Name'].str.contains('Skoda Laura 1.8 TSI Ambition')]=\"157.8 bhp\"\n",
    "\n",
    "test_combined['Engine'][test_combined['Name'].str.contains('Toyota Etios Liva Diesel TRD Sportivo')]=\"1364 CC\"\n",
    "test_combined['Power'][test_combined['Name'].str.contains('Toyota Etios Liva Diesel TRD Sportivo')]=\"67.1 bhp\"\n",
    "\n",
    "test_combined['Engine'][test_combined['Name'].str.contains('Hyundai i20 new Sportz AT 1.4')]=\"1197 CC\"\n",
    "test_combined['Power'][test_combined['Name'].str.contains('Hyundai i20 new Sportz AT 1.4')]=\"80 bhp\"\n",
    "\n",
    "test_combined['Engine'][test_combined['Name'].str.contains('Mahindra TUV 300 P4')]=\"1493 CC\"\n",
    "test_combined['Power'][test_combined['Name'].str.contains('Mahindra TUV 300 P4')]=\"100 bhp\""
   ]
  },
  {
   "cell_type": "code",
   "execution_count": 400,
   "metadata": {},
   "outputs": [
    {
     "data": {
      "text/plain": [
       "Name                 0\n",
       "Location             0\n",
       "Year                 0\n",
       "Kilometers_Driven    0\n",
       "Fuel_Type            0\n",
       "Transmission         0\n",
       "Owner_Type           0\n",
       "Mileage              0\n",
       "Engine               0\n",
       "Power                0\n",
       "Seats                0\n",
       "Price                0\n",
       "dtype: int64"
      ]
     },
     "execution_count": 400,
     "metadata": {},
     "output_type": "execute_result"
    }
   ],
   "source": [
    "#again check for null values\n",
    "test_combined.isnull().sum()"
   ]
  },
  {
   "cell_type": "code",
   "execution_count": null,
   "metadata": {},
   "outputs": [],
   "source": []
  },
  {
   "cell_type": "code",
   "execution_count": 401,
   "metadata": {},
   "outputs": [],
   "source": [
    "#Power column has \"null bhp\" as a string value..replacing that with 113--mean of Power column\n",
    "\n",
    "train_df['Power']=train_df['Power'].replace(['null bhp'],[113])\n",
    "test_combined['Power']=test_combined['Power'].replace(['null bhp'],[113])"
   ]
  },
  {
   "cell_type": "code",
   "execution_count": 185,
   "metadata": {},
   "outputs": [],
   "source": []
  },
  {
   "cell_type": "code",
   "execution_count": 402,
   "metadata": {},
   "outputs": [],
   "source": [
    "#As we need numeric values from Mileage,Engine and Power column..removing the unnecessary characters\n",
    "\n",
    "train_df['Mileage']=train_df['Mileage'].str.split(' ').str[0]\n",
    "train_df['Engine']=train_df['Engine'].str.split(' ').str[0]\n",
    "train_df['Power']=train_df['Power'].str.split(' ').str[0]\n",
    "\n",
    "test_combined['Engine']=test_combined['Engine'].str.split(' ').str[0]\n",
    "test_combined['Power']=test_combined['Power'].str.split(' ').str[0]\n",
    "test_combined['Mileage']=test_combined['Mileage'].str.split(' ').str[0]"
   ]
  },
  {
   "cell_type": "code",
   "execution_count": 403,
   "metadata": {},
   "outputs": [],
   "source": [
    "#converting from object to float/int dtype\n",
    "\n",
    "train_df['Mileage'] = train_df['Mileage'].astype('float64')\n",
    "train_df['Engine'] = train_df['Engine'].astype('float64')\n",
    "train_df['Power'] = train_df['Power'].astype('float64')\n",
    "train_df['Seats'] = train_df['Seats'].astype('int64')\n",
    "\n",
    "test_combined['Mileage'] = test_combined['Mileage'].astype('float64')\n",
    "test_combined['Engine'] = test_combined['Engine'].astype('float64')\n",
    "test_combined['Power'] = test_combined['Power'].astype('float64')\n",
    "test_combined['Seats'] = test_combined['Seats'].astype('int64')"
   ]
  },
  {
   "cell_type": "code",
   "execution_count": 404,
   "metadata": {},
   "outputs": [
    {
     "name": "stdout",
     "output_type": "stream",
     "text": [
      "<class 'pandas.core.frame.DataFrame'>\n",
      "RangeIndex: 6019 entries, 0 to 6018\n",
      "Data columns (total 12 columns):\n",
      "Name                 6019 non-null object\n",
      "Location             6019 non-null object\n",
      "Year                 6019 non-null int64\n",
      "Kilometers_Driven    6019 non-null int64\n",
      "Fuel_Type            6019 non-null object\n",
      "Transmission         6019 non-null object\n",
      "Owner_Type           6019 non-null object\n",
      "Mileage              6019 non-null float64\n",
      "Engine               6019 non-null float64\n",
      "Power                5914 non-null float64\n",
      "Seats                6019 non-null int64\n",
      "Price                6019 non-null float64\n",
      "dtypes: float64(4), int64(3), object(5)\n",
      "memory usage: 564.4+ KB\n"
     ]
    }
   ],
   "source": [
    "train_df.info()"
   ]
  },
  {
   "cell_type": "code",
   "execution_count": 405,
   "metadata": {},
   "outputs": [],
   "source": [
    "#As seat count cannot be 0...replacing with the mean value that is 5\n",
    "\n",
    "train_df['Seats']=train_df['Seats'].replace([0],[5])\n",
    "test_combined['Seats']=test_combined['Seats'].replace([0],[5])"
   ]
  },
  {
   "cell_type": "code",
   "execution_count": 291,
   "metadata": {},
   "outputs": [
    {
     "data": {
      "text/html": [
       "<div>\n",
       "<style scoped>\n",
       "    .dataframe tbody tr th:only-of-type {\n",
       "        vertical-align: middle;\n",
       "    }\n",
       "\n",
       "    .dataframe tbody tr th {\n",
       "        vertical-align: top;\n",
       "    }\n",
       "\n",
       "    .dataframe thead th {\n",
       "        text-align: right;\n",
       "    }\n",
       "</style>\n",
       "<table border=\"1\" class=\"dataframe\">\n",
       "  <thead>\n",
       "    <tr style=\"text-align: right;\">\n",
       "      <th></th>\n",
       "      <th>Year</th>\n",
       "      <th>Kilometers_Driven</th>\n",
       "      <th>Mileage</th>\n",
       "      <th>Engine</th>\n",
       "      <th>Power</th>\n",
       "      <th>Seats</th>\n",
       "      <th>Price</th>\n",
       "    </tr>\n",
       "  </thead>\n",
       "  <tbody>\n",
       "    <tr>\n",
       "      <th>Year</th>\n",
       "      <td>1.000000</td>\n",
       "      <td>-0.455227</td>\n",
       "      <td>0.327026</td>\n",
       "      <td>-0.071756</td>\n",
       "      <td>0.002985</td>\n",
       "      <td>-0.010642</td>\n",
       "      <td>0.119151</td>\n",
       "    </tr>\n",
       "    <tr>\n",
       "      <th>Kilometers_Driven</th>\n",
       "      <td>-0.455227</td>\n",
       "      <td>1.000000</td>\n",
       "      <td>-0.147148</td>\n",
       "      <td>0.186202</td>\n",
       "      <td>0.006378</td>\n",
       "      <td>0.217155</td>\n",
       "      <td>-0.058846</td>\n",
       "    </tr>\n",
       "    <tr>\n",
       "      <th>Mileage</th>\n",
       "      <td>0.327026</td>\n",
       "      <td>-0.147148</td>\n",
       "      <td>1.000000</td>\n",
       "      <td>-0.563063</td>\n",
       "      <td>-0.490743</td>\n",
       "      <td>-0.315144</td>\n",
       "      <td>-0.114833</td>\n",
       "    </tr>\n",
       "    <tr>\n",
       "      <th>Engine</th>\n",
       "      <td>-0.071756</td>\n",
       "      <td>0.186202</td>\n",
       "      <td>-0.563063</td>\n",
       "      <td>1.000000</td>\n",
       "      <td>0.827182</td>\n",
       "      <td>0.428254</td>\n",
       "      <td>0.253054</td>\n",
       "    </tr>\n",
       "    <tr>\n",
       "      <th>Power</th>\n",
       "      <td>0.002985</td>\n",
       "      <td>0.006378</td>\n",
       "      <td>-0.490743</td>\n",
       "      <td>0.827182</td>\n",
       "      <td>1.000000</td>\n",
       "      <td>0.067683</td>\n",
       "      <td>0.318338</td>\n",
       "    </tr>\n",
       "    <tr>\n",
       "      <th>Seats</th>\n",
       "      <td>-0.010642</td>\n",
       "      <td>0.217155</td>\n",
       "      <td>-0.315144</td>\n",
       "      <td>0.428254</td>\n",
       "      <td>0.067683</td>\n",
       "      <td>1.000000</td>\n",
       "      <td>-0.005463</td>\n",
       "    </tr>\n",
       "    <tr>\n",
       "      <th>Price</th>\n",
       "      <td>0.119151</td>\n",
       "      <td>-0.058846</td>\n",
       "      <td>-0.114833</td>\n",
       "      <td>0.253054</td>\n",
       "      <td>0.318338</td>\n",
       "      <td>-0.005463</td>\n",
       "      <td>1.000000</td>\n",
       "    </tr>\n",
       "  </tbody>\n",
       "</table>\n",
       "</div>"
      ],
      "text/plain": [
       "                       Year  Kilometers_Driven   Mileage    Engine     Power  \\\n",
       "Year               1.000000          -0.455227  0.327026 -0.071756  0.002985   \n",
       "Kilometers_Driven -0.455227           1.000000 -0.147148  0.186202  0.006378   \n",
       "Mileage            0.327026          -0.147148  1.000000 -0.563063 -0.490743   \n",
       "Engine            -0.071756           0.186202 -0.563063  1.000000  0.827182   \n",
       "Power              0.002985           0.006378 -0.490743  0.827182  1.000000   \n",
       "Seats             -0.010642           0.217155 -0.315144  0.428254  0.067683   \n",
       "Price              0.119151          -0.058846 -0.114833  0.253054  0.318338   \n",
       "\n",
       "                      Seats     Price  \n",
       "Year              -0.010642  0.119151  \n",
       "Kilometers_Driven  0.217155 -0.058846  \n",
       "Mileage           -0.315144 -0.114833  \n",
       "Engine             0.428254  0.253054  \n",
       "Power              0.067683  0.318338  \n",
       "Seats              1.000000 -0.005463  \n",
       "Price             -0.005463  1.000000  "
      ]
     },
     "metadata": {},
     "output_type": "display_data"
    }
   ],
   "source": [
    "# checking correlation at initial stage\n",
    "corr = test_combined.corr()\n",
    "display(corr)"
   ]
  },
  {
   "cell_type": "code",
   "execution_count": 226,
   "metadata": {
    "scrolled": true
   },
   "outputs": [
    {
     "data": {
      "text/plain": [
       "<matplotlib.axes._subplots.AxesSubplot at 0x29e0029ce10>"
      ]
     },
     "execution_count": 226,
     "metadata": {},
     "output_type": "execute_result"
    },
    {
     "data": {
      "image/png": "[encoded data removed]",
      "text/plain": [
       "<Figure size 1080x432 with 1 Axes>"
      ]
     },
     "metadata": {
      "needs_background": "light"
     },
     "output_type": "display_data"
    }
   ],
   "source": [
    "#checking in which year car sale was highest\n",
    "plt.rcParams['figure.figsize'] = (15, 6)\n",
    "plt.rcParams['font.size'] = 12\n",
    "sns.countplot(train_df['Year'], color = 'blue')"
   ]
  },
  {
   "cell_type": "code",
   "execution_count": 406,
   "metadata": {},
   "outputs": [],
   "source": [
    "#As electric,lpg and cng varients form really small chunk of data set..combining them together into new value 'Other'\n",
    "\n",
    "fuel=['Electric','LPG','CNG']\n",
    "for i in fuel:\n",
    "    train_df['Fuel_Type']=train_df['Fuel_Type'].replace([i],['Other'])\n",
    "    test_combined['Fuel_Type']=test_combined['Fuel_Type'].replace([i],['Other'])\n",
    "    "
   ]
  },
  {
   "cell_type": "code",
   "execution_count": 407,
   "metadata": {},
   "outputs": [],
   "source": [
    "#Fourth & above value for a small chunk..hence combining it into Third attribute in Owner_type column\n",
    "\n",
    "train_df['Owner_Type']=train_df['Owner_Type'].replace(['Fourth & Above'],['Third'])\n",
    "test_combined['Owner_Type']=test_combined['Owner_Type'].replace(['Fourth & Above'],['Third'])"
   ]
  },
  {
   "cell_type": "code",
   "execution_count": 408,
   "metadata": {},
   "outputs": [
    {
     "data": {
      "text/plain": [
       "Low     4115\n",
       "Mid     1390\n",
       "High     514\n",
       "Name: Category, dtype: int64"
      ]
     },
     "execution_count": 408,
     "metadata": {},
     "output_type": "execute_result"
    }
   ],
   "source": [
    "#creating new feature called as category based on price in train df\n",
    "\n",
    "def groups(Price):\n",
    "    if Price <= 8:\n",
    "        return 'Low'\n",
    "    if Price > 8 and Price < 25:\n",
    "        return 'Mid'\n",
    "    else:\n",
    "        return 'High'\n",
    "train_df['Category'] = train_df.apply(lambda x: groups(x['Price']), axis = 1)\n",
    "\n",
    "# checking the values\n",
    "train_df['Category'].value_counts()"
   ]
  },
  {
   "cell_type": "code",
   "execution_count": 409,
   "metadata": {},
   "outputs": [
    {
     "data": {
      "text/plain": [
       "High    1137\n",
       "Mid       97\n",
       "Name: Category, dtype: int64"
      ]
     },
     "execution_count": 409,
     "metadata": {},
     "output_type": "execute_result"
    }
   ],
   "source": [
    "#creating new feature called as category based on price in test df\n",
    "\n",
    "def groups(Price):\n",
    "    if Price <= 8:\n",
    "        return 'Low'\n",
    "    if Price > 8 and Price < 25:\n",
    "        return 'Mid'\n",
    "    else:\n",
    "        return 'High'\n",
    "test_combined['Category'] = test_combined.apply(lambda x: groups(x['Price']), axis = 1)\n",
    "\n",
    "# checking the values\n",
    "test_combined['Category'].value_counts()"
   ]
  },
  {
   "cell_type": "code",
   "execution_count": 410,
   "metadata": {},
   "outputs": [],
   "source": [
    "#dropping Name column as its not necessary\n",
    "\n",
    "train_df.drop(['Name'],axis=1,inplace=True)\n",
    "test_combined.drop(['Name'],axis=1,inplace=True)"
   ]
  },
  {
   "cell_type": "code",
   "execution_count": 411,
   "metadata": {},
   "outputs": [
    {
     "data": {
      "text/plain": [
       "Mid    679\n",
       "New    543\n",
       "Old     12\n",
       "Name: Condition, dtype: int64"
      ]
     },
     "execution_count": 411,
     "metadata": {},
     "output_type": "execute_result"
    }
   ],
   "source": [
    "#creting new feature called condition based on year of car in train df\n",
    "\n",
    "def groups(Year):\n",
    "    if Year <= 2004:\n",
    "        return 'Old'\n",
    "    if Year > 2005 and Year < 2015:\n",
    "        return 'Mid'\n",
    "    else:\n",
    "        return 'New'\n",
    "test_combined['Condition'] = test_combined.apply(lambda x: groups(x['Year']), axis = 1)\n",
    "\n",
    "# checking the values\n",
    "test_combined['Condition'].value_counts()"
   ]
  },
  {
   "cell_type": "code",
   "execution_count": 412,
   "metadata": {},
   "outputs": [
    {
     "data": {
      "text/plain": [
       "Mid    3409\n",
       "New    2529\n",
       "Old      81\n",
       "Name: Condition, dtype: int64"
      ]
     },
     "execution_count": 412,
     "metadata": {},
     "output_type": "execute_result"
    }
   ],
   "source": [
    "#creting new feature called condition based on year of car in test df\n",
    "\n",
    "def groups(Year):\n",
    "    if Year <= 2004:\n",
    "        return 'Old'\n",
    "    if Year > 2005 and Year < 2015:\n",
    "        return 'Mid'\n",
    "    else:\n",
    "        return 'New'\n",
    "train_df['Condition'] = train_df.apply(lambda x: groups(x['Year']), axis = 1)\n",
    "\n",
    "# checking the values\n",
    "train_df['Condition'].value_counts()"
   ]
  },
  {
   "cell_type": "code",
   "execution_count": 414,
   "metadata": {},
   "outputs": [
    {
     "name": "stdout",
     "output_type": "stream",
     "text": [
      "<class 'pandas.core.frame.DataFrame'>\n",
      "RangeIndex: 1234 entries, 0 to 1233\n",
      "Data columns (total 12 columns):\n",
      "Location             1234 non-null object\n",
      "Kilometers_Driven    1234 non-null int64\n",
      "Fuel_Type            1234 non-null object\n",
      "Transmission         1234 non-null object\n",
      "Owner_Type           1234 non-null object\n",
      "Mileage              1234 non-null float64\n",
      "Engine               1234 non-null float64\n",
      "Power                1213 non-null float64\n",
      "Seats                1234 non-null int64\n",
      "Price                1234 non-null float64\n",
      "Category             1234 non-null object\n",
      "Condition            1234 non-null object\n",
      "dtypes: float64(4), int64(2), object(6)\n",
      "memory usage: 115.8+ KB\n"
     ]
    }
   ],
   "source": [
    "test_combined.info()"
   ]
  },
  {
   "cell_type": "code",
   "execution_count": 413,
   "metadata": {},
   "outputs": [],
   "source": [
    "#removing Year column as we have created new feature called condition based on year column\n",
    "\n",
    "train_df.drop(['Year'],axis=1,inplace=True)\n",
    "test_combined.drop(['Year'],axis=1,inplace=True)"
   ]
  },
  {
   "cell_type": "code",
   "execution_count": 415,
   "metadata": {},
   "outputs": [],
   "source": [
    "#creting dummines function for train df\n",
    "\n",
    "todummy_list=['Location','Fuel_Type','Transmission','Owner_Type','Condition','Category']\n",
    "def dummy_df(train_df,todummy_list):\n",
    "    for x in todummy_list:\n",
    "        dummies=pd.get_dummies(train_df[x],prefix=x,dummy_na=False)\n",
    "        train_df=train_df.drop(x,1)\n",
    "        train_df=pd.concat([train_df,dummies],axis=1)\n",
    "    return train_df"
   ]
  },
  {
   "cell_type": "code",
   "execution_count": 416,
   "metadata": {},
   "outputs": [
    {
     "name": "stdout",
     "output_type": "stream",
     "text": [
      "   Kilometers_Driven  Mileage  Engine   Power  Seats  Price  \\\n",
      "0              72000    26.60   998.0   58.16      5   1.75   \n",
      "1              41000    19.67  1582.0  126.20      5  12.50   \n",
      "2              46000    18.20  1199.0   88.70      5   4.50   \n",
      "3              87000    20.77  1248.0   88.76      7   6.00   \n",
      "4              40670    15.20  1968.0  140.80      5  17.74   \n",
      "\n",
      "   Location_Ahmedabad  Location_Bangalore  Location_Chennai  \\\n",
      "0                   0                   0                 0   \n",
      "1                   0                   0                 0   \n",
      "2                   0                   0                 1   \n",
      "3                   0                   0                 1   \n",
      "4                   0                   0                 0   \n",
      "\n",
      "   Location_Coimbatore      ...       Transmission_Manual  Owner_Type_First  \\\n",
      "0                    0      ...                         1                 1   \n",
      "1                    0      ...                         1                 1   \n",
      "2                    0      ...                         1                 1   \n",
      "3                    0      ...                         1                 1   \n",
      "4                    1      ...                         0                 0   \n",
      "\n",
      "   Owner_Type_Second  Owner_Type_Third  Condition_Mid  Condition_New  \\\n",
      "0                  0                 0              1              0   \n",
      "1                  0                 0              0              1   \n",
      "2                  0                 0              1              0   \n",
      "3                  0                 0              1              0   \n",
      "4                  1                 0              1              0   \n",
      "\n",
      "   Condition_Old  Category_High  Category_Low  Category_Mid  \n",
      "0              0              0             1             0  \n",
      "1              0              0             0             1  \n",
      "2              0              0             1             0  \n",
      "3              0              0             1             0  \n",
      "4              0              0             0             1  \n",
      "\n",
      "[5 rows x 31 columns]\n"
     ]
    }
   ],
   "source": [
    "#calling dumming function for train df\n",
    "\n",
    "train_df=dummy_df(train_df,todummy_list)\n",
    "print(train_df.head(5))"
   ]
  },
  {
   "cell_type": "code",
   "execution_count": 417,
   "metadata": {},
   "outputs": [
    {
     "name": "stdout",
     "output_type": "stream",
     "text": [
      "<class 'pandas.core.frame.DataFrame'>\n",
      "RangeIndex: 1234 entries, 0 to 1233\n",
      "Data columns (total 12 columns):\n",
      "Location             1234 non-null object\n",
      "Kilometers_Driven    1234 non-null int64\n",
      "Fuel_Type            1234 non-null object\n",
      "Transmission         1234 non-null object\n",
      "Owner_Type           1234 non-null object\n",
      "Mileage              1234 non-null float64\n",
      "Engine               1234 non-null float64\n",
      "Power                1213 non-null float64\n",
      "Seats                1234 non-null int64\n",
      "Price                1234 non-null float64\n",
      "Category             1234 non-null object\n",
      "Condition            1234 non-null object\n",
      "dtypes: float64(4), int64(2), object(6)\n",
      "memory usage: 115.8+ KB\n"
     ]
    }
   ],
   "source": [
    "test_combined.info()"
   ]
  },
  {
   "cell_type": "code",
   "execution_count": 418,
   "metadata": {},
   "outputs": [],
   "source": [
    "#creting dummines function for test df\n",
    "\n",
    "todummy_list=['Location','Fuel_Type','Transmission','Owner_Type','Condition','Category']\n",
    "def dummy_df(test_combined,todummy_list):\n",
    "    for x in todummy_list:\n",
    "        dummies=pd.get_dummies(test_combined[x],prefix=x,dummy_na=False)\n",
    "        test_combined=test_combined.drop(x,1)\n",
    "        test_combined=pd.concat([test_combined,dummies],axis=1)\n",
    "    return test_combined"
   ]
  },
  {
   "cell_type": "code",
   "execution_count": 419,
   "metadata": {},
   "outputs": [
    {
     "name": "stdout",
     "output_type": "stream",
     "text": [
      "   Kilometers_Driven  Mileage  Engine   Power  Seats  Price  \\\n",
      "0              40929    32.26   998.0   58.20      4  55.02   \n",
      "1              54493    24.70   796.0   47.30      5  56.46   \n",
      "2              34000    13.68  2393.0  147.80      7  34.61   \n",
      "3             139000    23.59  1364.0     NaN      5  16.89   \n",
      "4              29000    18.50  1197.0   82.85      5  50.48   \n",
      "\n",
      "   Location_Ahmedabad  Location_Bangalore  Location_Chennai  \\\n",
      "0                   0                   0                 0   \n",
      "1                   0                   0                 0   \n",
      "2                   0                   0                 0   \n",
      "3                   0                   0                 0   \n",
      "4                   0                   0                 0   \n",
      "\n",
      "   Location_Coimbatore      ...       Transmission_Automatic  \\\n",
      "0                    0      ...                            0   \n",
      "1                    1      ...                            0   \n",
      "2                    0      ...                            0   \n",
      "3                    0      ...                            0   \n",
      "4                    0      ...                            0   \n",
      "\n",
      "   Transmission_Manual  Owner_Type_First  Owner_Type_Second  Owner_Type_Third  \\\n",
      "0                    1                 1                  0                 0   \n",
      "1                    1                 0                  1                 0   \n",
      "2                    1                 1                  0                 0   \n",
      "3                    1                 1                  0                 0   \n",
      "4                    1                 1                  0                 0   \n",
      "\n",
      "   Condition_Mid  Condition_New  Condition_Old  Category_High  Category_Mid  \n",
      "0              1              0              0              1             0  \n",
      "1              1              0              0              1             0  \n",
      "2              0              1              0              1             0  \n",
      "3              1              0              0              0             1  \n",
      "4              1              0              0              1             0  \n",
      "\n",
      "[5 rows x 30 columns]\n"
     ]
    }
   ],
   "source": [
    "#calling dumming function for test df\n",
    "\n",
    "test_combined=dummy_df(test_combined,todummy_list)\n",
    "print(test_combined.head(5))"
   ]
  },
  {
   "cell_type": "code",
   "execution_count": 420,
   "metadata": {},
   "outputs": [
    {
     "name": "stdout",
     "output_type": "stream",
     "text": [
      "<class 'pandas.core.frame.DataFrame'>\n",
      "RangeIndex: 6019 entries, 0 to 6018\n",
      "Data columns (total 31 columns):\n",
      "Kilometers_Driven         6019 non-null int64\n",
      "Mileage                   6019 non-null float64\n",
      "Engine                    6019 non-null float64\n",
      "Power                     5914 non-null float64\n",
      "Seats                     6019 non-null int64\n",
      "Price                     6019 non-null float64\n",
      "Location_Ahmedabad        6019 non-null uint8\n",
      "Location_Bangalore        6019 non-null uint8\n",
      "Location_Chennai          6019 non-null uint8\n",
      "Location_Coimbatore       6019 non-null uint8\n",
      "Location_Delhi            6019 non-null uint8\n",
      "Location_Hyderabad        6019 non-null uint8\n",
      "Location_Jaipur           6019 non-null uint8\n",
      "Location_Kochi            6019 non-null uint8\n",
      "Location_Kolkata          6019 non-null uint8\n",
      "Location_Mumbai           6019 non-null uint8\n",
      "Location_Pune             6019 non-null uint8\n",
      "Fuel_Type_Diesel          6019 non-null uint8\n",
      "Fuel_Type_Other           6019 non-null uint8\n",
      "Fuel_Type_Petrol          6019 non-null uint8\n",
      "Transmission_Automatic    6019 non-null uint8\n",
      "Transmission_Manual       6019 non-null uint8\n",
      "Owner_Type_First          6019 non-null uint8\n",
      "Owner_Type_Second         6019 non-null uint8\n",
      "Owner_Type_Third          6019 non-null uint8\n",
      "Condition_Mid             6019 non-null uint8\n",
      "Condition_New             6019 non-null uint8\n",
      "Condition_Old             6019 non-null uint8\n",
      "Category_High             6019 non-null uint8\n",
      "Category_Low              6019 non-null uint8\n",
      "Category_Mid              6019 non-null uint8\n",
      "dtypes: float64(4), int64(2), uint8(25)\n",
      "memory usage: 429.2 KB\n"
     ]
    }
   ],
   "source": [
    "train_df.info()"
   ]
  },
  {
   "cell_type": "code",
   "execution_count": 421,
   "metadata": {},
   "outputs": [
    {
     "name": "stdout",
     "output_type": "stream",
     "text": [
      "<class 'pandas.core.frame.DataFrame'>\n",
      "RangeIndex: 1234 entries, 0 to 1233\n",
      "Data columns (total 30 columns):\n",
      "Kilometers_Driven         1234 non-null int64\n",
      "Mileage                   1234 non-null float64\n",
      "Engine                    1234 non-null float64\n",
      "Power                     1213 non-null float64\n",
      "Seats                     1234 non-null int64\n",
      "Price                     1234 non-null float64\n",
      "Location_Ahmedabad        1234 non-null uint8\n",
      "Location_Bangalore        1234 non-null uint8\n",
      "Location_Chennai          1234 non-null uint8\n",
      "Location_Coimbatore       1234 non-null uint8\n",
      "Location_Delhi            1234 non-null uint8\n",
      "Location_Hyderabad        1234 non-null uint8\n",
      "Location_Jaipur           1234 non-null uint8\n",
      "Location_Kochi            1234 non-null uint8\n",
      "Location_Kolkata          1234 non-null uint8\n",
      "Location_Mumbai           1234 non-null uint8\n",
      "Location_Pune             1234 non-null uint8\n",
      "Fuel_Type_Diesel          1234 non-null uint8\n",
      "Fuel_Type_Other           1234 non-null uint8\n",
      "Fuel_Type_Petrol          1234 non-null uint8\n",
      "Transmission_Automatic    1234 non-null uint8\n",
      "Transmission_Manual       1234 non-null uint8\n",
      "Owner_Type_First          1234 non-null uint8\n",
      "Owner_Type_Second         1234 non-null uint8\n",
      "Owner_Type_Third          1234 non-null uint8\n",
      "Condition_Mid             1234 non-null uint8\n",
      "Condition_New             1234 non-null uint8\n",
      "Condition_Old             1234 non-null uint8\n",
      "Category_High             1234 non-null uint8\n",
      "Category_Mid              1234 non-null uint8\n",
      "dtypes: float64(4), int64(2), uint8(24)\n",
      "memory usage: 86.8 KB\n"
     ]
    }
   ],
   "source": [
    "test_combined.info()"
   ]
  },
  {
   "cell_type": "code",
   "execution_count": 422,
   "metadata": {},
   "outputs": [],
   "source": [
    "#As test df has Category_low column missing..adding it with default value 0\n",
    "#test df has not car with category low hence adding default value\n",
    "\n",
    "test_combined['Category_Low']=0"
   ]
  },
  {
   "cell_type": "code",
   "execution_count": 430,
   "metadata": {},
   "outputs": [],
   "source": [
    "#filling NaN values in Power column with mean value i.e 113\n",
    "\n",
    "train_df['Power'].fillna(113,inplace=True)\n",
    "test_combined['Power'].fillna(113,inplace=True)"
   ]
  },
  {
   "cell_type": "code",
   "execution_count": 269,
   "metadata": {},
   "outputs": [],
   "source": [
    "#from sklearn.preprocessing import StandardScaler\n",
    "#scaler=StandardScaler()\n",
    "#scaler.fit(train_df)\n",
    "#train_df=scaler.transform(train_df)\n",
    "\n",
    "#scaler.fit(test_combined)\n",
    "#test_combined=scaler.transform(test_combined)"
   ]
  },
  {
   "cell_type": "code",
   "execution_count": 431,
   "metadata": {},
   "outputs": [],
   "source": [
    "# creating x_train,y_train,x_test,y_test as train and test is already provided to us\n",
    "\n",
    "X_train=train_df.drop(\"Price\", axis=1)\n",
    "y_train=train_df[\"Price\"]\n",
    "\n",
    "X_test=test_combined.drop(\"Price\", axis=1)\n",
    "y_test=test_combined[\"Price\"]"
   ]
  },
  {
   "cell_type": "code",
   "execution_count": null,
   "metadata": {},
   "outputs": [],
   "source": []
  },
  {
   "cell_type": "code",
   "execution_count": 425,
   "metadata": {},
   "outputs": [
    {
     "data": {
      "text/plain": [
       "(1234, 30)"
      ]
     },
     "execution_count": 425,
     "metadata": {},
     "output_type": "execute_result"
    }
   ],
   "source": [
    "X_test.shape"
   ]
  },
  {
   "cell_type": "code",
   "execution_count": 426,
   "metadata": {},
   "outputs": [
    {
     "data": {
      "text/plain": [
       "(6019,)"
      ]
     },
     "execution_count": 426,
     "metadata": {},
     "output_type": "execute_result"
    }
   ],
   "source": [
    "y_train.shape"
   ]
  },
  {
   "cell_type": "code",
   "execution_count": 427,
   "metadata": {},
   "outputs": [
    {
     "data": {
      "text/plain": [
       "(1234,)"
      ]
     },
     "execution_count": 427,
     "metadata": {},
     "output_type": "execute_result"
    }
   ],
   "source": [
    "y_test.shape"
   ]
  },
  {
   "cell_type": "code",
   "execution_count": 208,
   "metadata": {},
   "outputs": [],
   "source": [
    "#from sklearn.preprocessing import StandardScaler\n",
    "#scaler=StandardScaler()\n",
    "#scaler.fit(X_train)\n",
    "#X_train=scaler.transform(X_train)"
   ]
  },
  {
   "cell_type": "code",
   "execution_count": 433,
   "metadata": {},
   "outputs": [
    {
     "data": {
      "text/plain": [
       "84.23"
      ]
     },
     "execution_count": 433,
     "metadata": {},
     "output_type": "execute_result"
    }
   ],
   "source": [
    "# buliding Linear regression model\n",
    "\n",
    "from sklearn import linear_model\n",
    "from sklearn.linear_model import LinearRegression\n",
    "lr = LinearRegression()\n",
    "lr.fit(X_train, y_train)\n",
    "Y_pred = lr.predict(X_test)\n",
    "acc_log = round(lr.score(X_train, y_train) * 100, 2)\n",
    "acc_log"
   ]
  },
  {
   "cell_type": "code",
   "execution_count": 435,
   "metadata": {},
   "outputs": [
    {
     "name": "stdout",
     "output_type": "stream",
     "text": [
      "MSE 1.19e+03\n",
      "MAE 29.0\n",
      "RMSE 34.4\n"
     ]
    }
   ],
   "source": [
    "from sklearn.metrics import mean_squared_error, r2_score, mean_absolute_error\n",
    "import math\n",
    "# calculate the mean squared error\n",
    "model_mse = mean_squared_error(y_test, Y_pred)\n",
    "\n",
    "# calculate the mean absolute error\n",
    "model_mae = mean_absolute_error(y_test, Y_pred)\n",
    "\n",
    "# calulcate the root mean squared error\n",
    "model_rmse =  math.sqrt(model_mse)\n",
    "\n",
    "# display the output\n",
    "print(\"MSE {:.3}\".format(model_mse))\n",
    "print(\"MAE {:.3}\".format(model_mae))\n",
    "print(\"RMSE {:.3}\".format(model_rmse))"
   ]
  },
  {
   "cell_type": "code",
   "execution_count": 437,
   "metadata": {},
   "outputs": [],
   "source": [
    "import statsmodels.api as sm\n",
    "from statsmodels.stats import diagnostic as diag\n",
    "from statsmodels.stats.outliers_influence import variance_inflation_factor\n",
    "X2 = sm.add_constant(X_train)"
   ]
  },
  {
   "cell_type": "code",
   "execution_count": 438,
   "metadata": {},
   "outputs": [],
   "source": [
    "model = sm.OLS(y_train, X2)"
   ]
  },
  {
   "cell_type": "code",
   "execution_count": 439,
   "metadata": {},
   "outputs": [],
   "source": [
    "est = model.fit()"
   ]
  },
  {
   "cell_type": "code",
   "execution_count": 445,
   "metadata": {},
   "outputs": [
    {
     "name": "stdout",
     "output_type": "stream",
     "text": [
      "4.216402559640947e-79 1.611775177633244e-86\n",
      "----------------------------------------------------------------------------------------------------\n",
      "For the Breusch-Pagan's Test\n",
      "The p-value was 4.216e-79\n",
      "We reject the null hypthoesis, so there is heterosecdasticity.\n"
     ]
    }
   ],
   "source": [
    "# Run the Breusch-Pagan test\n",
    "_, pval, __, f_pval = diag.het_breuschpagan(est.resid, est.model.exog)\n",
    "print(pval, f_pval)\n",
    "print('-'*100)\n",
    "\n",
    "# print the results of the test\n",
    "if pval > 0.05:\n",
    "    print(\"For the Breusch-Pagan's Test\")\n",
    "    print(\"The p-value was {:.4}\".format(pval))\n",
    "    print(\"We fail to reject the null hypthoesis, so there is no heterosecdasticity.\")\n",
    "\n",
    "else:\n",
    "    print(\"For the Breusch-Pagan's Test\")\n",
    "    print(\"The p-value was {:.4}\".format(pval))\n",
    "    print(\"We reject the null hypthoesis, so there is heterosecdasticity.\")"
   ]
  },
  {
   "cell_type": "code",
   "execution_count": 447,
   "metadata": {},
   "outputs": [
    {
     "name": "stdout",
     "output_type": "stream",
     "text": [
      "The number of lags will be 10\n",
      "----------------------------------------------------------------------------------------------------\n",
      "The lowest p-value found was 0.4078\n",
      "We fail to reject the null hypthoesis, so there is no autocorrelation.\n",
      "----------------------------------------------------------------------------------------------------\n"
     ]
    },
    {
     "data": {
      "image/png": "[encoded data removed]",
      "text/plain": [
       "<Figure size 1080x432 with 1 Axes>"
      ]
     },
     "metadata": {
      "needs_background": "light"
     },
     "output_type": "display_data"
    }
   ],
   "source": [
    "# test for autocorrelation\n",
    "from statsmodels.stats.stattools import durbin_watson\n",
    "\n",
    "# calculate the lag, optional\n",
    "lag = min(10, (len(X_train)//5))\n",
    "print('The number of lags will be {}'.format(lag))\n",
    "print('-'*100)\n",
    "\n",
    "# run the Ljung-Box test for no autocorrelation of residuals\n",
    "# test_results = diag.acorr_breusch_godfrey(est, nlags = lag, store = True)\n",
    "test_results = diag.acorr_ljungbox(est.resid, lags = lag)\n",
    "\n",
    "# grab the p-values and the test statistics\n",
    "ibvalue, p_val = test_results\n",
    "\n",
    "# print the results of the test\n",
    "if min(p_val) > 0.05:\n",
    "    print(\"The lowest p-value found was {:.4}\".format(min(p_val)))\n",
    "    print(\"We fail to reject the null hypthoesis, so there is no autocorrelation.\")\n",
    "    print('-'*100)\n",
    "else:\n",
    "    print(\"The lowest p-value found was {:.4}\".format(min(p_val)))\n",
    "    print(\"We reject the null hypthoesis, so there is autocorrelation.\")\n",
    "    print('-'*100)\n",
    "\n",
    "# plot autocorrelation\n",
    "sm.graphics.tsa.plot_acf(est.resid)\n",
    "plt.show()"
   ]
  },
  {
   "cell_type": "code",
   "execution_count": 448,
   "metadata": {},
   "outputs": [
    {
     "data": {
      "image/png": "[encoded data removed]",
      "text/plain": [
       "<Figure size 1080x432 with 1 Axes>"
      ]
     },
     "metadata": {
      "needs_background": "light"
     },
     "output_type": "display_data"
    },
    {
     "name": "stdout",
     "output_type": "stream",
     "text": [
      "The mean of the residuals is 1.066e-14\n"
     ]
    }
   ],
   "source": [
    "import pylab\n",
    "\n",
    "# check for the normality of the residuals\n",
    "sm.qqplot(est.resid, line='s')\n",
    "pylab.show()\n",
    "\n",
    "# also check that the mean of the residuals is approx. 0.\n",
    "mean_residuals = sum(est.resid)/ len(est.resid)\n",
    "print(\"The mean of the residuals is {:.4}\".format(mean_residuals))"
   ]
  },
  {
   "cell_type": "code",
   "execution_count": 450,
   "metadata": {},
   "outputs": [
    {
     "name": "stdout",
     "output_type": "stream",
     "text": [
      "MSE 1.19e+03\n",
      "MAE 29.0\n",
      "RMSE 34.4\n"
     ]
    }
   ],
   "source": [
    "import math\n",
    "# calculate the mean squared error\n",
    "model_mse = mean_squared_error(y_test, Y_pred)\n",
    "\n",
    "# calculate the mean absolute error\n",
    "model_mae = mean_absolute_error(y_test, Y_pred)\n",
    "\n",
    "# calulcate the root mean squared error\n",
    "model_rmse =  math.sqrt(model_mse)\n",
    "\n",
    "# display the output\n",
    "print(\"MSE {:.3}\".format(model_mse))\n",
    "print(\"MAE {:.3}\".format(model_mae))\n",
    "print(\"RMSE {:.3}\".format(model_rmse))"
   ]
  },
  {
   "cell_type": "code",
   "execution_count": 451,
   "metadata": {},
   "outputs": [
    {
     "name": "stdout",
     "output_type": "stream",
     "text": [
      "R2: -1.4\n"
     ]
    }
   ],
   "source": [
    "model_r2 = r2_score(y_test,Y_pred)\n",
    "print(\"R2: {:.2}\".format(model_r2))"
   ]
  },
  {
   "cell_type": "code",
   "execution_count": 452,
   "metadata": {},
   "outputs": [
    {
     "name": "stdout",
     "output_type": "stream",
     "text": [
      "                            OLS Regression Results                            \n",
      "==============================================================================\n",
      "Dep. Variable:                  Price   R-squared:                       0.842\n",
      "Model:                            OLS   Adj. R-squared:                  0.842\n",
      "Method:                 Least Squares   F-statistic:                     1334.\n",
      "Date:                Sun, 23 Jun 2019   Prob (F-statistic):               0.00\n",
      "Time:                        20:04:36   Log-Likelihood:                -17515.\n",
      "No. Observations:                6019   AIC:                         3.508e+04\n",
      "Df Residuals:                    5994   BIC:                         3.525e+04\n",
      "Df Model:                          24                                         \n",
      "Covariance Type:            nonrobust                                         \n",
      "==========================================================================================\n",
      "                             coef    std err          t      P>|t|      [0.025      0.975]\n",
      "------------------------------------------------------------------------------------------\n",
      "const                      2.2602      0.271      8.328      0.000       1.728       2.792\n",
      "Kilometers_Driven       8.701e-07   6.48e-07      1.343      0.179      -4e-07    2.14e-06\n",
      "Mileage                    0.0705      0.018      3.822      0.000       0.034       0.107\n",
      "Engine                     0.0013      0.000      5.041      0.000       0.001       0.002\n",
      "Power                      0.0605      0.003     21.335      0.000       0.055       0.066\n",
      "Seats                     -0.3474      0.095     -3.651      0.000      -0.534      -0.161\n",
      "Location_Ahmedabad         0.3928      0.278      1.412      0.158      -0.153       0.938\n",
      "Location_Bangalore         1.2297      0.225      5.456      0.000       0.788       1.671\n",
      "Location_Chennai          -0.0161      0.196     -0.082      0.934      -0.400       0.368\n",
      "Location_Coimbatore        0.9526      0.178      5.354      0.000       0.604       1.301\n",
      "Location_Delhi            -0.0045      0.185     -0.024      0.981      -0.368       0.359\n",
      "Location_Hyderabad         0.5982      0.163      3.667      0.000       0.278       0.918\n",
      "Location_Jaipur            0.0267      0.210      0.127      0.899      -0.386       0.439\n",
      "Location_Kochi             0.3116      0.176      1.771      0.077      -0.033       0.656\n",
      "Location_Kolkata          -0.7544      0.191     -3.951      0.000      -1.129      -0.380\n",
      "Location_Mumbai           -0.3016      0.161     -1.877      0.061      -0.617       0.013\n",
      "Location_Pune             -0.1747      0.175     -0.996      0.319      -0.519       0.169\n",
      "Fuel_Type_Diesel           0.9453      0.209      4.518      0.000       0.535       1.355\n",
      "Fuel_Type_Other            1.0419      0.407      2.563      0.010       0.245       1.839\n",
      "Fuel_Type_Petrol           0.2730      0.184      1.480      0.139      -0.089       0.635\n",
      "Transmission_Automatic     1.4263      0.159      8.946      0.000       1.114       1.739\n",
      "Transmission_Manual        0.8339      0.166      5.031      0.000       0.509       1.159\n",
      "Owner_Type_First           1.4531      0.173      8.404      0.000       1.114       1.792\n",
      "Owner_Type_Second          0.6316      0.182      3.479      0.001       0.276       0.988\n",
      "Owner_Type_Third           0.1755      0.308      0.570      0.569      -0.428       0.779\n",
      "Condition_Mid              0.2211      0.193      1.146      0.252      -0.157       0.599\n",
      "Condition_New              2.5980      0.210     12.374      0.000       2.186       3.010\n",
      "Condition_Old             -0.5588      0.365     -1.530      0.126      -1.275       0.157\n",
      "Category_High             15.3576      0.224     68.442      0.000      14.918      15.797\n",
      "Category_Low              -8.6138      0.163    -52.715      0.000      -8.934      -8.293\n",
      "Category_Mid              -4.4836      0.145    -31.023      0.000      -4.767      -4.200\n",
      "==============================================================================\n",
      "Omnibus:                     6906.206   Durbin-Watson:                   1.985\n",
      "Prob(Omnibus):                  0.000   Jarque-Bera (JB):          2707988.560\n",
      "Skew:                           5.428   Prob(JB):                         0.00\n",
      "Kurtosis:                     106.344   Cond. No.                     7.05e+16\n",
      "==============================================================================\n",
      "\n",
      "Warnings:\n",
      "[1] Standard Errors assume that the covariance matrix of the errors is correctly specified.\n",
      "[2] The smallest eigenvalue is 1.43e-20. This might indicate that there are\n",
      "strong multicollinearity problems or that the design matrix is singular.\n"
     ]
    }
   ],
   "source": [
    "print(est.summary())"
   ]
  },
  {
   "cell_type": "code",
   "execution_count": 453,
   "metadata": {},
   "outputs": [],
   "source": [
    "#removing columns with have p_value>0.05 as they are insignificant\n",
    "\n",
    "train_df_after = train_df.drop(['Location_Ahmedabad','Location_Bangalore','Location_Chennai','Location_Coimbatore',\n",
    "                               'Location_Delhi','Location_Hyderabad','Location_Jaipur','Location_Kochi',\n",
    "                               'Location_Kolkata','Location_Mumbai','Location_Pune','Kilometers_Driven','Fuel_Type_Petrol',\n",
    "                               'Owner_Type_Third','Condition_Mid','Condition_Old'], axis = 1)"
   ]
  },
  {
   "cell_type": "code",
   "execution_count": null,
   "metadata": {},
   "outputs": [],
   "source": []
  },
  {
   "cell_type": "code",
   "execution_count": 454,
   "metadata": {},
   "outputs": [],
   "source": [
    "X = train_df_after.drop('Price', axis = 1)\n",
    "Y = train_df_after[['Price']]"
   ]
  },
  {
   "cell_type": "code",
   "execution_count": 456,
   "metadata": {},
   "outputs": [],
   "source": [
    "from sklearn.model_selection import train_test_split\n",
    "X_train, X_test, y_train, y_test = train_test_split(X, Y, test_size=0.20, random_state=1)"
   ]
  },
  {
   "cell_type": "code",
   "execution_count": 457,
   "metadata": {},
   "outputs": [],
   "source": [
    "regression_model = LinearRegression()\n"
   ]
  },
  {
   "cell_type": "code",
   "execution_count": 458,
   "metadata": {},
   "outputs": [
    {
     "data": {
      "text/plain": [
       "LinearRegression(copy_X=True, fit_intercept=True, n_jobs=None,\n",
       "         normalize=False)"
      ]
     },
     "execution_count": 458,
     "metadata": {},
     "output_type": "execute_result"
    }
   ],
   "source": [
    "regression_model.fit(X_train, y_train)"
   ]
  },
  {
   "cell_type": "code",
   "execution_count": 459,
   "metadata": {},
   "outputs": [],
   "source": [
    "X2 = sm.add_constant(X)"
   ]
  },
  {
   "cell_type": "code",
   "execution_count": 460,
   "metadata": {},
   "outputs": [],
   "source": [
    "model = sm.OLS(Y, X2)\n"
   ]
  },
  {
   "cell_type": "code",
   "execution_count": 461,
   "metadata": {},
   "outputs": [
    {
     "name": "stdout",
     "output_type": "stream",
     "text": [
      "                            OLS Regression Results                            \n",
      "==============================================================================\n",
      "Dep. Variable:                  Price   R-squared:                       0.840\n",
      "Model:                            OLS   Adj. R-squared:                  0.840\n",
      "Method:                 Least Squares   F-statistic:                     2629.\n",
      "Date:                Sun, 23 Jun 2019   Prob (F-statistic):               0.00\n",
      "Time:                        20:22:29   Log-Likelihood:                -17558.\n",
      "No. Observations:                6019   AIC:                         3.514e+04\n",
      "Df Residuals:                    6006   BIC:                         3.523e+04\n",
      "Df Model:                          12                                         \n",
      "Covariance Type:            nonrobust                                         \n",
      "==========================================================================================\n",
      "                             coef    std err          t      P>|t|      [0.025      0.975]\n",
      "------------------------------------------------------------------------------------------\n",
      "const                      2.7835      0.445      6.259      0.000       1.912       3.655\n",
      "Mileage                    0.0670      0.018      3.647      0.000       0.031       0.103\n",
      "Engine                     0.0013      0.000      4.971      0.000       0.001       0.002\n",
      "Power                      0.0599      0.003     21.099      0.000       0.054       0.065\n",
      "Seats                     -0.3503      0.096     -3.664      0.000      -0.538      -0.163\n",
      "Fuel_Type_Diesel           0.7716      0.158      4.882      0.000       0.462       1.081\n",
      "Fuel_Type_Other            0.7161      0.567      1.263      0.207      -0.395       1.827\n",
      "Transmission_Automatic     1.6851      0.236      7.135      0.000       1.222       2.148\n",
      "Transmission_Manual        1.0984      0.243      4.512      0.000       0.621       1.576\n",
      "Owner_Type_First           1.3798      0.417      3.312      0.001       0.563       2.196\n",
      "Owner_Type_Second          0.6173      0.432      1.429      0.153      -0.229       1.464\n",
      "Condition_New              2.4561      0.133     18.477      0.000       2.196       2.717\n",
      "Category_High             15.7091      0.265     59.377      0.000      15.190      16.228\n",
      "Category_Low              -8.6083      0.182    -47.246      0.000      -8.965      -8.251\n",
      "Category_Mid              -4.3173      0.189    -22.887      0.000      -4.687      -3.948\n",
      "==============================================================================\n",
      "Omnibus:                     6843.751   Durbin-Watson:                   1.992\n",
      "Prob(Omnibus):                  0.000   Jarque-Bera (JB):          2590743.220\n",
      "Skew:                           5.347   Prob(JB):                         0.00\n",
      "Kurtosis:                     104.074   Cond. No.                     2.52e+19\n",
      "==============================================================================\n",
      "\n",
      "Warnings:\n",
      "[1] Standard Errors assume that the covariance matrix of the errors is correctly specified.\n",
      "[2] The smallest eigenvalue is 2.86e-29. This might indicate that there are\n",
      "strong multicollinearity problems or that the design matrix is singular.\n"
     ]
    }
   ],
   "source": [
    "est = model.fit()\n",
    "\n",
    "print(est.summary())"
   ]
  },
  {
   "cell_type": "code",
   "execution_count": 463,
   "metadata": {},
   "outputs": [],
   "source": [
    "train_df_after1 = train_df_after.drop(['Fuel_Type_Other','Owner_Type_Second'], axis = 1)"
   ]
  },
  {
   "cell_type": "code",
   "execution_count": 464,
   "metadata": {},
   "outputs": [],
   "source": [
    "X1 = train_df_after1.drop('Price', axis = 1)\n",
    "Y1 = train_df_after1[['Price']]"
   ]
  },
  {
   "cell_type": "code",
   "execution_count": 465,
   "metadata": {},
   "outputs": [],
   "source": [
    "from sklearn.model_selection import train_test_split\n",
    "X_train, X_test, y_train, y_test = train_test_split(X1, Y1, test_size=0.20, random_state=1)"
   ]
  },
  {
   "cell_type": "code",
   "execution_count": 466,
   "metadata": {},
   "outputs": [
    {
     "name": "stdout",
     "output_type": "stream",
     "text": [
      "                            OLS Regression Results                            \n",
      "==============================================================================\n",
      "Dep. Variable:                  Price   R-squared:                       0.840\n",
      "Model:                            OLS   Adj. R-squared:                  0.840\n",
      "Method:                 Least Squares   F-statistic:                     3154.\n",
      "Date:                Sun, 23 Jun 2019   Prob (F-statistic):               0.00\n",
      "Time:                        20:28:50   Log-Likelihood:                -17560.\n",
      "No. Observations:                6019   AIC:                         3.514e+04\n",
      "Df Residuals:                    6008   BIC:                         3.522e+04\n",
      "Df Model:                          10                                         \n",
      "Covariance Type:            nonrobust                                         \n",
      "==========================================================================================\n",
      "                             coef    std err          t      P>|t|      [0.025      0.975]\n",
      "------------------------------------------------------------------------------------------\n",
      "const                      3.0296      0.390      7.777      0.000       2.266       3.793\n",
      "Mileage                    0.0733      0.018      4.098      0.000       0.038       0.108\n",
      "Engine                     0.0013      0.000      5.076      0.000       0.001       0.002\n",
      "Power                      0.0597      0.003     21.061      0.000       0.054       0.065\n",
      "Seats                     -0.3458      0.096     -3.621      0.000      -0.533      -0.159\n",
      "Fuel_Type_Diesel           0.7342      0.155      4.739      0.000       0.431       1.038\n",
      "Transmission_Automatic     1.8087      0.210      8.609      0.000       1.397       2.221\n",
      "Transmission_Manual        1.2209      0.219      5.578      0.000       0.792       1.650\n",
      "Owner_Type_First           0.8231      0.156      5.269      0.000       0.517       1.129\n",
      "Condition_New              2.4439      0.133     18.435      0.000       2.184       2.704\n",
      "Category_High             15.8124      0.254     62.255      0.000      15.314      16.310\n",
      "Category_Low              -8.5502      0.169    -50.617      0.000      -8.881      -8.219\n",
      "Category_Mid              -4.2326      0.173    -24.415      0.000      -4.572      -3.893\n",
      "==============================================================================\n",
      "Omnibus:                     6835.048   Durbin-Watson:                   1.991\n",
      "Prob(Omnibus):                  0.000   Jarque-Bera (JB):          2577443.384\n",
      "Skew:                           5.335   Prob(JB):                         0.00\n",
      "Kurtosis:                     103.814   Cond. No.                     1.13e+20\n",
      "==============================================================================\n",
      "\n",
      "Warnings:\n",
      "[1] Standard Errors assume that the covariance matrix of the errors is correctly specified.\n",
      "[2] The smallest eigenvalue is 1.42e-30. This might indicate that there are\n",
      "strong multicollinearity problems or that the design matrix is singular.\n"
     ]
    }
   ],
   "source": [
    "regression_model = LinearRegression()\n",
    "regression_model.fit(X_train, y_train)\n",
    "X_1 = sm.add_constant(X1)\n",
    "model = sm.OLS(Y1, X_1)\n",
    "est = model.fit()\n",
    "\n",
    "print(est.summary())"
   ]
  },
  {
   "cell_type": "code",
   "execution_count": 470,
   "metadata": {},
   "outputs": [
    {
     "name": "stdout",
     "output_type": "stream",
     "text": [
      "The intercept for our model is 5.759\n",
      "----------------------------------------------------------------------------------------------------\n",
      "The Coefficient for Mileage is 0.069\n",
      "The Coefficient for Engine is 0.0012\n",
      "The Coefficient for Power is 0.059\n",
      "The Coefficient for Seats is -0.3\n",
      "The Coefficient for Fuel_Type_Diesel is 0.68\n",
      "The Coefficient for Fuel_Type_Other is 0.26\n",
      "The Coefficient for Transmission_Automatic is -0.26\n",
      "The Coefficient for Transmission_Manual is 0.78\n",
      "The Coefficient for Owner_Type_First is 2.4\n",
      "The Coefficient for Owner_Type_Second is 1.5e+01\n",
      "The Coefficient for Condition_New is -9.6\n",
      "The Coefficient for Category_High is -5.2\n"
     ]
    }
   ],
   "source": [
    "# let's grab the coefficient of our model and the intercept\n",
    "intercept = regression_model.intercept_[0]\n",
    "coefficent = regression_model.coef_[0][0]\n",
    "\n",
    "print(\"The intercept for our model is {:.4}\".format(intercept))\n",
    "print('-'*100)\n",
    "\n",
    "# loop through the dictionary and print the data\n",
    "for coef in zip(X.columns, regression_model.coef_[0]):\n",
    "    print(\"The Coefficient for {} is {:.2}\".format(coef[0],coef[1]))"
   ]
  },
  {
   "cell_type": "code",
   "execution_count": 473,
   "metadata": {},
   "outputs": [
    {
     "data": {
      "text/plain": [
       "array([[43.16720502],\n",
       "       [ 4.27259514],\n",
       "       [ 7.69152959],\n",
       "       [11.79614445],\n",
       "       [ 4.19408628]])"
      ]
     },
     "execution_count": 473,
     "metadata": {},
     "output_type": "execute_result"
    }
   ],
   "source": [
    "# Get multiple predictions\n",
    "y_predict = regression_model.predict(X_test)\n",
    "\n",
    "# Show the first 5 predictions\n",
    "y_predict[:5]"
   ]
  },
  {
   "cell_type": "markdown",
   "metadata": {},
   "source": [
    "Section Six: Evaluating the Model\n",
    "Using the Statsmodel\n",
    "To make diagnosing the model easier, we will, from this point forward, be using the statsmodel module. This module has built-in functions that will make calculating metrics quick. However, we will need \"rebuild\" our model using the statsmodel module. We do this by creating a constant variable, call the OLS() method and then the fit() method. We now have a new model, and the first thing we need to do is to make sure that the assumptions of our model hold. This means checking the following:\n",
    "\n",
    "Regression residuals must be normally distributed.\n",
    "The residuals are homoscedastic\n",
    "Absence of multicollinearity (we did this above).\n",
    "No Autocorrelation."
   ]
  },
  {
   "cell_type": "code",
   "execution_count": 474,
   "metadata": {},
   "outputs": [],
   "source": [
    "# define our intput\n",
    "X_2 = sm.add_constant(X1)\n",
    "\n",
    "# create a OLS model\n",
    "model = sm.OLS(Y1, X_2)\n",
    "\n",
    "# fit the data\n",
    "est = model.fit()"
   ]
  },
  {
   "cell_type": "markdown",
   "metadata": {},
   "source": [
    "Checking for Heteroscedasticity\n",
    "What is Heteroscedasticity?\n",
    "One of the assumptions of our model is that there is no heteroscedasticity. What exactly does this mean? Well, to give a simple definition it merely means the standard errors of a variable, monitored over a specific amount of time, are non-constant. Let's imagine a situation where heteroscedasticity could exist.\n",
    "\n",
    "Imagine we modeled household consumption based on income, something we would probably notice is how the variability of expenditures changes depending on how much income you have. In simple terms, we would see that households with more income spend money on a broader set of items compared to lower income households that would only be able to focus on the main staples. This results in standard errors that change over income levels.\n",
    "\n",
    "What is the problem with heteroscedasticity?\n",
    "There are two big reasons why you want homoscedasticity:\n",
    "\n",
    "While heteroscedasticity does not cause bias in the coefficient estimates, it causes the coefficient estimates to be less precise. The Lower precision increases the likelihood that the coefficient estimates are further from the correct population value.\n",
    "\n",
    "Heteroscedasticity tends to produce p-values that are smaller than they should be. This effect occurs because heteroscedasticity increases the variance of the coefficient estimates, but the OLS procedure does not detect this increase. Consequently, OLS calculates the t-values and F-values using an underestimated amount of variance. This problem can lead you to conclude that a model term is statistically significant when it is not significant.\n",
    "\n",
    "How to test for heteroscedasticity?\n",
    "To check for heteroscedasticity, we can leverage the statsmodels.stats.diagnostic module. This module will give us to a few test functions we can run, the Breusch-Pagan and the White test for heteroscedasticity. The Breusch-Pagan is a more general test for heteroscedasticity while the White test is a unique case.\n",
    "\n",
    "The null hypothesis for both the White’s test and the Breusch-Pagan test is that the variances for the errors are equal:\n",
    "H0 = s2i = s2\n",
    "The alternate hypothesis (the one you’re testing), is that the variances are not equal:\n",
    "H1 = s2i ? s2\n",
    "Our goal is to fail to reject the null hypothesis, have a high p-value because that means we have no heteroscedasticity."
   ]
  },
  {
   "cell_type": "code",
   "execution_count": 476,
   "metadata": {},
   "outputs": [
    {
     "name": "stdout",
     "output_type": "stream",
     "text": [
      "1.3307659444968799e-126 7.432814448055566e-137\n",
      "----------------------------------------------------------------------------------------------------\n",
      "For the White's Test\n",
      "The p-value was 1.331e-126\n",
      "We reject the null hypthoesis, so there is heterosecdasticity. \n",
      "\n",
      "3.2098595893240557e-90 1.155918229218313e-95\n",
      "----------------------------------------------------------------------------------------------------\n",
      "For the Breusch-Pagan's Test\n",
      "The p-value was 3.21e-90\n",
      "We reject the null hypthoesis, so there is heterosecdasticity.\n"
     ]
    }
   ],
   "source": [
    "# Run the White's test\n",
    "_, pval, __, f_pval = diag.het_white(est.resid, est.model.exog, retres = False)\n",
    "print(pval, f_pval)\n",
    "print('-'*100)\n",
    "\n",
    "# print the results of the test\n",
    "if pval > 0.05:\n",
    "    print(\"For the White's Test\")\n",
    "    print(\"The p-value was {:.4}\".format(pval))\n",
    "    print(\"We fail to reject the null hypthoesis, so there is no heterosecdasticity. \\n\")\n",
    "    \n",
    "else:\n",
    "    print(\"For the White's Test\")\n",
    "    print(\"The p-value was {:.4}\".format(pval))\n",
    "    print(\"We reject the null hypthoesis, so there is heterosecdasticity. \\n\")\n",
    "    \n",
    "# Run the Breusch-Pagan test\n",
    "_, pval, __, f_pval = diag.het_breuschpagan(est.resid, est.model.exog)\n",
    "print(pval, f_pval)\n",
    "print('-'*100)\n",
    "\n",
    "# print the results of the test\n",
    "if pval > 0.05:\n",
    "    print(\"For the Breusch-Pagan's Test\")\n",
    "    print(\"The p-value was {:.4}\".format(pval))\n",
    "    print(\"We fail to reject the null hypthoesis, so there is no heterosecdasticity.\")\n",
    "\n",
    "else:\n",
    "    print(\"For the Breusch-Pagan's Test\")\n",
    "    print(\"The p-value was {:.4}\".format(pval))\n",
    "    print(\"We reject the null hypthoesis, so there is heterosecdasticity.\")"
   ]
  },
  {
   "cell_type": "code",
   "execution_count": 477,
   "metadata": {},
   "outputs": [
    {
     "data": {
      "image/png": "[encoded data removed]",
      "text/plain": [
       "<Figure size 1080x432 with 1 Axes>"
      ]
     },
     "metadata": {
      "needs_background": "light"
     },
     "output_type": "display_data"
    },
    {
     "name": "stdout",
     "output_type": "stream",
     "text": [
      "The mean of the residuals is -1.72e-13\n"
     ]
    }
   ],
   "source": [
    "import pylab\n",
    "\n",
    "# check for the normality of the residuals\n",
    "sm.qqplot(est.resid, line='s')\n",
    "pylab.show()\n",
    "\n",
    "# also check that the mean of the residuals is approx. 0.\n",
    "mean_residuals = sum(est.resid)/ len(est.resid)\n",
    "print(\"The mean of the residuals is {:.4}\".format(mean_residuals))"
   ]
  },
  {
   "cell_type": "code",
   "execution_count": 478,
   "metadata": {},
   "outputs": [
    {
     "name": "stdout",
     "output_type": "stream",
     "text": [
      "MSE 17.2\n",
      "MAE 2.35\n",
      "RMSE 4.15\n"
     ]
    }
   ],
   "source": [
    "import math\n",
    "# calculate the mean squared error\n",
    "model_mse = mean_squared_error(y_test, y_predict)\n",
    "\n",
    "# calculate the mean absolute error\n",
    "model_mae = mean_absolute_error(y_test, y_predict)\n",
    "\n",
    "# calulcate the root mean squared error\n",
    "model_rmse =  math.sqrt(model_mse)\n",
    "\n",
    "# display the output\n",
    "print(\"MSE {:.3}\".format(model_mse))\n",
    "print(\"MAE {:.3}\".format(model_mae))\n",
    "print(\"RMSE {:.3}\".format(model_rmse))"
   ]
  },
  {
   "cell_type": "code",
   "execution_count": 479,
   "metadata": {},
   "outputs": [
    {
     "name": "stdout",
     "output_type": "stream",
     "text": [
      "R2: 0.87\n"
     ]
    }
   ],
   "source": [
    "model_r2 = r2_score(y_test, y_predict)\n",
    "print(\"R2: {:.2}\".format(model_r2))"
   ]
  },
  {
   "cell_type": "code",
   "execution_count": null,
   "metadata": {},
   "outputs": [],
   "source": []
  }
 ],
 "metadata": {
  "kernelspec": {
   "display_name": "Python 3",
   "language": "python",
   "name": "python3"
  },
  "language_info": {
   "codemirror_mode": {
    "name": "ipython",
    "version": 3
   },
   "file_extension": ".py",
   "mimetype": "text/x-python",
   "name": "python",
   "nbconvert_exporter": "python",
   "pygments_lexer": "ipython3",
   "version": "3.7.1"
  }
 },
 "nbformat": 4,
 "nbformat_minor": 2
}
